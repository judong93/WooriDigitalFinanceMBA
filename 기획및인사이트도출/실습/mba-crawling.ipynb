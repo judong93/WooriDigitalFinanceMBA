{
 "cells": [
  {
   "cell_type": "code",
   "execution_count": 104,
   "metadata": {},
   "outputs": [],
   "source": [
    "import requests\n",
    "from selenium import webdriver\n",
    "from selenium.webdriver.common.keys import Keys\n",
    "from selenium.webdriver.support.ui import WebDriverWait\n",
    "from selenium.webdriver.support import expected_conditions as EC\n",
    "from selenium.webdriver.common.by import By\n",
    "from selenium.webdriver.common.keys import Keys\n",
    "from bs4 import BeautifulSoup\n",
    "import time\n",
    "from time import sleep\n",
    "import random\n",
    "from tqdm.auto import tqdm, trange\n",
    "import pandas as pd"
   ]
  },
  {
   "cell_type": "code",
   "execution_count": 105,
   "metadata": {},
   "outputs": [],
   "source": [
    "import matplotlib.pyplot as plt\n",
    "import seaborn as sns"
   ]
  },
  {
   "cell_type": "code",
   "execution_count": 106,
   "metadata": {},
   "outputs": [],
   "source": [
    "options = webdriver.ChromeOptions()\n",
    "################################################### 본인 user-agent로 바꾸기\n",
    "options.add_argument('user-agent=Mozilla/5.0 (Windows NT 10.0; Win64; x64) AppleWebKit/537.36 (KHTML, like Gecko) Chrome/100.0.4896.127 Safari/537.36')"
   ]
  },
  {
   "cell_type": "code",
   "execution_count": 111,
   "metadata": {},
   "outputs": [
    {
     "name": "stderr",
     "output_type": "stream",
     "text": [
      "<ipython-input-111-1dada62bbcc9>:3: DeprecationWarning: executable_path has been deprecated, please pass in a Service object\n",
      "  driver = webdriver.Chrome(\"C:/Users/yello/mba-insight/chromedriver_win32/chromedriver.exe\", options=options)\n"
     ]
    }
   ],
   "source": [
    "# 크롬 창 열기\n",
    "################################################### 본인 chromedriver 위치로 바꾸기\n",
    "driver = webdriver.Chrome(\"C:/Users/yello/mba-insight/chromedriver_win32/chromedriver.exe\", options=options)\n",
    "################################################### 원하는 url로 바꾸기\n",
    "url = 'https://play.google.com/store/apps/details?id=com.wooribank.smart.npib'\n",
    "driver.get(url)"
   ]
  },
  {
   "cell_type": "code",
   "execution_count": 112,
   "metadata": {},
   "outputs": [
    {
     "name": "stderr",
     "output_type": "stream",
     "text": [
      "<ipython-input-112-a605cd2d9883>:9: DeprecationWarning: find_element_by_xpath is deprecated. Please use find_element(by=By.XPATH, value=xpath) instead\n",
      "  driver.find_element_by_xpath(all_review_button_xpath).click()\n"
     ]
    }
   ],
   "source": [
    "# 페이지 로딩 대기\n",
    "wait = WebDriverWait(driver, 10)\n",
    "\n",
    "# '리뷰 모두 보기' 버튼 렌더링 확인\n",
    "all_review_button_xpath = '/html/body/c-wiz[2]/div/div/div[1]/div[2]/div/div[1]/c-wiz[4]/section/div/div/div[5]/div/div/button/span'\n",
    "button_loading_wait = wait.until(EC.presence_of_element_located((By.XPATH, all_review_button_xpath)))\n",
    "\n",
    "# '리뷰 모두 보기' 버튼 클릭\n",
    "driver.find_element_by_xpath(all_review_button_xpath).click()\n",
    "\n",
    "# '리뷰 모두 보기' 페이지 렌더링 대기\n",
    "all_review_page_xpath = '/html/body/div[4]/div[2]/div/div/div/div/div[2]'\n",
    "page_loading_wait = wait.until(EC.presence_of_element_located((By.XPATH, all_review_page_xpath)))"
   ]
  },
  {
   "cell_type": "code",
   "execution_count": 113,
   "metadata": {},
   "outputs": [],
   "source": [
    "import time\n",
    "\n",
    "def scroll(modal):\n",
    "    try:        \n",
    "        # 스크롤 높이 받아오기\n",
    "        last_height = driver.execute_script(\"return arguments[0].scrollHeight\", modal)\n",
    "        iter = 0\n",
    "        while True:\n",
    "#        for i in range(10):\n",
    "            pause_time = random.uniform(0.5, 0.8)\n",
    "            # 최하단까지 스크롤\n",
    "            driver.execute_script(\"arguments[0].scrollTo(0, arguments[0].scrollHeight);\", modal)\n",
    "            # 페이지 로딩 대기\n",
    "            time.sleep(pause_time)\n",
    "            # 무한 스크롤 동작을 위해 살짝 위로 스크롤\n",
    "            driver.execute_script(\"arguments[0].scrollTo(0, arguments[0].scrollHeight-50);\", modal)\n",
    "            time.sleep(pause_time)\n",
    "            # 스크롤 높이 새롭게 받아오기\n",
    "            new_height = driver.execute_script(\"return arguments[0].scrollHeight\", modal)\n",
    "                     \n",
    "            try:\n",
    "                # '더보기' 버튼 있을 경우 클릭\n",
    "                all_review_button = driver.find_element_by_xpath('/html/body/div[1]/div[4]/c-wiz/div/div[2]/div/div/main/div/div[1]/div[2]/div[2]/div/span/span').click()\n",
    "            except:\n",
    "                # 스크롤 완료 경우\n",
    "                if new_height == last_height:\n",
    "                    print(\"스크롤 완료\")\n",
    "                    break\n",
    "                last_height = new_height\n",
    "            \n",
    "            if iter % 10 == 0:\n",
    "                time.sleep(20)\n",
    "            iter += 1\n",
    "                \n",
    "    except Exception as e:\n",
    "        print(\"에러 발생: \", e)"
   ]
  },
  {
   "cell_type": "code",
   "execution_count": 114,
   "metadata": {},
   "outputs": [
    {
     "name": "stderr",
     "output_type": "stream",
     "text": [
      "<ipython-input-113-c0c161077044>:23: DeprecationWarning: find_element_by_xpath is deprecated. Please use find_element(by=By.XPATH, value=xpath) instead\n",
      "  all_review_button = driver.find_element_by_xpath('/html/body/div[1]/div[4]/c-wiz/div/div[2]/div/div/main/div/div[1]/div[2]/div[2]/div/span/span').click()\n"
     ]
    },
    {
     "name": "stdout",
     "output_type": "stream",
     "text": [
      "스크롤 완료\n"
     ]
    },
    {
     "data": {
      "application/vnd.jupyter.widget-view+json": {
       "model_id": "dda8d70a969b4709933e7bd061c26db9",
       "version_major": 2,
       "version_minor": 0
      },
      "text/plain": [
       "HBox(children=(HTML(value=''), FloatProgress(value=0.0, max=6000.0), HTML(value='')))"
      ]
     },
     "metadata": {},
     "output_type": "display_data"
    },
    {
     "name": "stdout",
     "output_type": "stream",
     "text": [
      "\n"
     ]
    }
   ],
   "source": [
    "# 페이지 무한 스크롤 다운\n",
    "modal = WebDriverWait(driver, 2).until(EC.element_to_be_clickable((By.XPATH, \"//div[@class='fysCi']\")))\n",
    "scroll(modal)\n",
    "\n",
    "# # html parsing하기\n",
    "html_source = driver.page_source\n",
    "soup_source = BeautifulSoup(html_source, 'html.parser')\n",
    "\n",
    "# # html 데이터 저장\n",
    "# with open(\"C:/Users/yello/mba/data_html.html\", \"w\", encoding = 'utf-8') as file:\n",
    "#     file.write(str(soup_source))\n",
    "    \n",
    "# 리뷰 데이터 클래스 접근\n",
    "review_source = soup_source.find_all(class_ = 'RHo1pe')\n",
    "# 리뷰 데이터 저장용 배열\n",
    "dataset = []\n",
    "# 데이터 넘버링을 위한 변수\n",
    "review_num = 0\n",
    "# 리뷰 1개씩 접근해 정보 추출\n",
    "for review in tqdm(review_source):\n",
    "    review_num+=1\n",
    "    # 리뷰 등록일 데이터 추출\n",
    "    date_full = review.find_all(class_ = 'bp9Aid')[0].text\n",
    "    date_year = date_full[0:4] # 연도 데이터 추출\n",
    "    # 해당 단어가 등장한 인덱스 추출\n",
    "    year_index = date_full.find('년')\n",
    "    month_index = date_full.find('월')\n",
    "    day_index = date_full.find('일')\n",
    "    \n",
    "    date_month = str(int(date_full[year_index+1:month_index])) # 월(Month) 데이터 추출\n",
    "    # 월 정보가 1자리의 경우 앞에 0 붙이기(e.g., 1월 -> 01월)\n",
    "    if len(date_month) == 1:\n",
    "        date_month = '0' + date_month\n",
    "    \n",
    "    date_day = str(int(date_full[month_index+1:day_index])) # 일(Day) 데이터 추출 \n",
    "    # 일 정보가 1자리의 경우 앞에 0 붙여줌(e.g., 7일 -> 07일)\n",
    "    if len(date_day) == 1:\n",
    "        date_day = '0' + date_day\n",
    "    \n",
    "    # 리뷰 등록일 full version은 최종적으로 yyyymmdd 형태로 저장\n",
    "    date_full = date_year + date_month + date_day\n",
    "    user_name = review.find_all(class_ = 'X5PpBb')[0].text # 닉네임 데이터 추출\n",
    "    rating = review.find_all(class_ = \"iXRFPc\")[0]['aria-label'][10] # 평점 데이터 추출\n",
    "    content = review.find_all(class_ = 'h3YV2d')[0].text # 리뷰 데이터 추출\n",
    "\n",
    "    data = {\n",
    "        \"id\": review_num, \n",
    "        \"date\": date_full,\n",
    "        \"dateYear\": date_year,\n",
    "        \"dateMonth\": date_month,\n",
    "        \"dateDay\": date_day,\n",
    "        \"rating\": rating,\n",
    "        \"userName\": user_name,\n",
    "        \"content\": content\n",
    "    }\n",
    "    dataset.append(data)"
   ]
  },
  {
   "cell_type": "code",
   "execution_count": 115,
   "metadata": {},
   "outputs": [],
   "source": [
    "df = pd.DataFrame(dataset)\n",
    "################################################### 저장할 위치 바꾸기\n",
    "# df.to_csv('C:/Users/yello/mba/wooribank_review_dataset.csv', encoding = 'utf-8-sig', index=False) # csv 파일로 저장"
   ]
  },
  {
   "cell_type": "code",
   "execution_count": 116,
   "metadata": {},
   "outputs": [
    {
     "data": {
      "text/plain": [
       "(6000, 8)"
      ]
     },
     "execution_count": 116,
     "metadata": {},
     "output_type": "execute_result"
    }
   ],
   "source": [
    "df.shape"
   ]
  },
  {
   "cell_type": "code",
   "execution_count": 35,
   "metadata": {},
   "outputs": [
    {
     "data": {
      "text/html": [
       "<div>\n",
       "<style scoped>\n",
       "    .dataframe tbody tr th:only-of-type {\n",
       "        vertical-align: middle;\n",
       "    }\n",
       "\n",
       "    .dataframe tbody tr th {\n",
       "        vertical-align: top;\n",
       "    }\n",
       "\n",
       "    .dataframe thead th {\n",
       "        text-align: right;\n",
       "    }\n",
       "</style>\n",
       "<table border=\"1\" class=\"dataframe\">\n",
       "  <thead>\n",
       "    <tr style=\"text-align: right;\">\n",
       "      <th></th>\n",
       "      <th>id</th>\n",
       "      <th>date</th>\n",
       "      <th>dateYear</th>\n",
       "      <th>dateMonth</th>\n",
       "      <th>dateDay</th>\n",
       "      <th>rating</th>\n",
       "      <th>userName</th>\n",
       "      <th>content</th>\n",
       "    </tr>\n",
       "  </thead>\n",
       "  <tbody>\n",
       "    <tr>\n",
       "      <th>0</th>\n",
       "      <td>1</td>\n",
       "      <td>20220418</td>\n",
       "      <td>2022</td>\n",
       "      <td>04</td>\n",
       "      <td>18</td>\n",
       "      <td>5</td>\n",
       "      <td>김흥서</td>\n",
       "      <td>[ W009474 ] 입출금알림을 원뱅킹앱으로 사용하면 연속적으로 출금이 됐을 때 ...</td>\n",
       "    </tr>\n",
       "    <tr>\n",
       "      <th>1</th>\n",
       "      <td>2</td>\n",
       "      <td>20220417</td>\n",
       "      <td>2022</td>\n",
       "      <td>04</td>\n",
       "      <td>17</td>\n",
       "      <td>5</td>\n",
       "      <td>so young kim</td>\n",
       "      <td>[ W009474 ] 확실히 간편해졌네요. 상품 가입도 쉽게 할 수 있어보이네요. ...</td>\n",
       "    </tr>\n",
       "    <tr>\n",
       "      <th>2</th>\n",
       "      <td>3</td>\n",
       "      <td>20220426</td>\n",
       "      <td>2022</td>\n",
       "      <td>04</td>\n",
       "      <td>26</td>\n",
       "      <td>1</td>\n",
       "      <td>이정신</td>\n",
       "      <td>우리은행에서 발급한 인증서를 가져오기해서 등록했지만 새로 로그인할때마다 등록된 인증...</td>\n",
       "    </tr>\n",
       "    <tr>\n",
       "      <th>3</th>\n",
       "      <td>4</td>\n",
       "      <td>20220311</td>\n",
       "      <td>2022</td>\n",
       "      <td>03</td>\n",
       "      <td>11</td>\n",
       "      <td>1</td>\n",
       "      <td>이소현</td>\n",
       "      <td>잘 될때는 잘 되지만 한 번 에러 발생하면 진짜 30분을 넘게 결제를 반복해서 진행...</td>\n",
       "    </tr>\n",
       "    <tr>\n",
       "      <th>4</th>\n",
       "      <td>5</td>\n",
       "      <td>20220303</td>\n",
       "      <td>2022</td>\n",
       "      <td>03</td>\n",
       "      <td>03</td>\n",
       "      <td>1</td>\n",
       "      <td>박경한</td>\n",
       "      <td>신분증 촬영이 안되네요. 초점이 안맞질않나 초점이 맞아서 제대로 맞춰도 아무반응이없...</td>\n",
       "    </tr>\n",
       "  </tbody>\n",
       "</table>\n",
       "</div>"
      ],
      "text/plain": [
       "   id      date dateYear dateMonth dateDay rating      userName  \\\n",
       "0   1  20220418     2022        04      18      5           김흥서   \n",
       "1   2  20220417     2022        04      17      5  so young kim   \n",
       "2   3  20220426     2022        04      26      1           이정신   \n",
       "3   4  20220311     2022        03      11      1           이소현   \n",
       "4   5  20220303     2022        03      03      1           박경한   \n",
       "\n",
       "                                             content  \n",
       "0  [ W009474 ] 입출금알림을 원뱅킹앱으로 사용하면 연속적으로 출금이 됐을 때 ...  \n",
       "1  [ W009474 ] 확실히 간편해졌네요. 상품 가입도 쉽게 할 수 있어보이네요. ...  \n",
       "2  우리은행에서 발급한 인증서를 가져오기해서 등록했지만 새로 로그인할때마다 등록된 인증...  \n",
       "3  잘 될때는 잘 되지만 한 번 에러 발생하면 진짜 30분을 넘게 결제를 반복해서 진행...  \n",
       "4  신분증 촬영이 안되네요. 초점이 안맞질않나 초점이 맞아서 제대로 맞춰도 아무반응이없...  "
      ]
     },
     "execution_count": 35,
     "metadata": {},
     "output_type": "execute_result"
    }
   ],
   "source": [
    "df.head()"
   ]
  },
  {
   "cell_type": "code",
   "execution_count": 37,
   "metadata": {},
   "outputs": [
    {
     "name": "stdout",
     "output_type": "stream",
     "text": [
      "7400\n",
      "7400\n"
     ]
    }
   ],
   "source": [
    "print(df['id'].nunique())\n",
    "print(len(df))"
   ]
  },
  {
   "cell_type": "code",
   "execution_count": null,
   "metadata": {},
   "outputs": [],
   "source": []
  },
  {
   "cell_type": "markdown",
   "metadata": {},
   "source": [
    "# Google-play-scraper 이용"
   ]
  },
  {
   "cell_type": "code",
   "execution_count": 39,
   "metadata": {},
   "outputs": [
    {
     "name": "stdout",
     "output_type": "stream",
     "text": [
      "Collecting google_play_scraper\n",
      "  Downloading google-play-scraper-1.0.5.tar.gz (52 kB)\n",
      "Building wheels for collected packages: google-play-scraper\n",
      "  Building wheel for google-play-scraper (setup.py): started\n",
      "  Building wheel for google-play-scraper (setup.py): finished with status 'done'\n",
      "  Created wheel for google-play-scraper: filename=google_play_scraper-1.0.5-py3-none-any.whl size=24473 sha256=bdc5b937c5e0658e7d05d8cab6e852e54f794f342edc9fd14b2827f06a93438d\n",
      "  Stored in directory: c:\\users\\yello\\appdata\\local\\pip\\cache\\wheels\\7a\\c5\\f8\\a45d4a7d6b7ce6d686a0576a7f7f02992dd7b3e70dc7d04fe6\n",
      "Successfully built google-play-scraper\n",
      "Installing collected packages: google-play-scraper\n",
      "Successfully installed google-play-scraper-1.0.5\n"
     ]
    }
   ],
   "source": [
    "!pip install google_play_scraper"
   ]
  },
  {
   "cell_type": "code",
   "execution_count": 40,
   "metadata": {},
   "outputs": [],
   "source": [
    "# from google_play_scraper import app"
   ]
  },
  {
   "cell_type": "code",
   "execution_count": 43,
   "metadata": {},
   "outputs": [],
   "source": [
    "# result = app(\n",
    "#     'com.wooribank.smart.npib',\n",
    "#     lang='ko',\n",
    "#     country='kr',\n",
    "# )"
   ]
  },
  {
   "cell_type": "code",
   "execution_count": 47,
   "metadata": {},
   "outputs": [
    {
     "name": "stdout",
     "output_type": "stream",
     "text": [
      "{'title': [], 'description': None, 'descriptionHTML': None, 'summary': None, 'summaryHTML': None, 'installs': None, 'minInstalls': None, 'score': None, 'ratings': None, 'reviews': None, 'histogram': [0, 0, 0, 0, 0], 'price': None, 'free': None, 'currency': None, 'sale': False, 'saleTime': None, 'originalPrice': None, 'saleText': None, 'offersIAP': False, 'inAppProductPrice': None, 'size': [[None, [[1800], None, [72000]]]], 'androidVersion': None, 'androidVersionText': None, 'developer': None, 'developerId': None, 'developerEmail': None, 'developerWebsite': None, 'developerAddress': None, 'privacyPolicy': None, 'developerInternalID': None, 'genre': None, 'genreId': None, 'icon': None, 'headerImage': None, 'screenshots': [], 'video': None, 'videoImage': None, 'contentRating': None, 'contentRatingDescription': None, 'adSupported': None, 'containsAds': False, 'released': None, 'updated': None, 'version': [[['CBSqARUKEwjzvOyk7uH3AhVMvZYKHTAaD9s='], None, [], None, None, None, [None, '앱 평가하기']], [['CBSqARUKEwiRveyk7uH3AhVMvZYKHTAaD9s='], None, None, [], None, None, [None, '간단히 리뷰 남기기']]], 'recentChanges': None, 'recentChangesHTML': None, 'comments': [], 'editorsChoice': False, 'similarApps': None, 'appId': 'com.wooribank.smart.npib', 'url': 'https://play.google.com/store/apps/details?id=com.wooribank.smart.npib&hl=ko&gl=kr'}\n"
     ]
    }
   ],
   "source": [
    "# print(result)"
   ]
  },
  {
   "cell_type": "code",
   "execution_count": 49,
   "metadata": {},
   "outputs": [],
   "source": [
    "# from google_play_scraper import Sort, reviews_all"
   ]
  },
  {
   "cell_type": "code",
   "execution_count": 75,
   "metadata": {},
   "outputs": [
    {
     "ename": "TypeError",
     "evalue": "reviews() got an unexpected keyword argument 'num'",
     "output_type": "error",
     "traceback": [
      "\u001b[1;31m---------------------------------------------------------------------------\u001b[0m",
      "\u001b[1;31mTypeError\u001b[0m                                 Traceback (most recent call last)",
      "\u001b[1;32m<ipython-input-75-cd1a7f401fc5>\u001b[0m in \u001b[0;36m<module>\u001b[1;34m\u001b[0m\n\u001b[1;32m----> 1\u001b[1;33m result = reviews_all(\n\u001b[0m\u001b[0;32m      2\u001b[0m     \u001b[1;34m'com.wooribank.smart.npib'\u001b[0m\u001b[1;33m,\u001b[0m\u001b[1;33m\u001b[0m\u001b[1;33m\u001b[0m\u001b[0m\n\u001b[0;32m      3\u001b[0m     \u001b[0msleep_milliseconds\u001b[0m\u001b[1;33m=\u001b[0m\u001b[1;36m0\u001b[0m\u001b[1;33m,\u001b[0m\u001b[1;33m\u001b[0m\u001b[1;33m\u001b[0m\u001b[0m\n\u001b[0;32m      4\u001b[0m     \u001b[0mlang\u001b[0m\u001b[1;33m=\u001b[0m\u001b[1;34m'ko'\u001b[0m\u001b[1;33m,\u001b[0m\u001b[1;33m\u001b[0m\u001b[1;33m\u001b[0m\u001b[0m\n\u001b[0;32m      5\u001b[0m     \u001b[0mcountry\u001b[0m\u001b[1;33m=\u001b[0m\u001b[1;34m'kr'\u001b[0m\u001b[1;33m,\u001b[0m\u001b[1;33m\u001b[0m\u001b[1;33m\u001b[0m\u001b[0m\n",
      "\u001b[1;32m~\\anaconda3\\lib\\site-packages\\google_play_scraper\\features\\reviews.py\u001b[0m in \u001b[0;36mreviews_all\u001b[1;34m(app_id, sleep_milliseconds, **kwargs)\u001b[0m\n\u001b[0;32m    127\u001b[0m \u001b[1;33m\u001b[0m\u001b[0m\n\u001b[0;32m    128\u001b[0m     \u001b[1;32mwhile\u001b[0m \u001b[1;32mTrue\u001b[0m\u001b[1;33m:\u001b[0m\u001b[1;33m\u001b[0m\u001b[1;33m\u001b[0m\u001b[0m\n\u001b[1;32m--> 129\u001b[1;33m         _result, continuation_token = reviews(\n\u001b[0m\u001b[0;32m    130\u001b[0m             \u001b[0mapp_id\u001b[0m\u001b[1;33m,\u001b[0m\u001b[1;33m\u001b[0m\u001b[1;33m\u001b[0m\u001b[0m\n\u001b[0;32m    131\u001b[0m             \u001b[0mcount\u001b[0m\u001b[1;33m=\u001b[0m\u001b[0mMAX_COUNT_EACH_FETCH\u001b[0m\u001b[1;33m,\u001b[0m\u001b[1;33m\u001b[0m\u001b[1;33m\u001b[0m\u001b[0m\n",
      "\u001b[1;31mTypeError\u001b[0m: reviews() got an unexpected keyword argument 'num'"
     ]
    }
   ],
   "source": [
    "# result = reviews_all(\n",
    "#     'com.wooribank.smart.npib',\n",
    "#     sleep_milliseconds=0,\n",
    "#     lang='ko',\n",
    "#     country='kr',\n",
    "#     sort=Sort.MOST_RELEVANT,\n",
    "#     filter_score_with=0,\n",
    "# )"
   ]
  },
  {
   "cell_type": "code",
   "execution_count": 73,
   "metadata": {},
   "outputs": [
    {
     "data": {
      "text/plain": [
       "8952"
      ]
     },
     "execution_count": 73,
     "metadata": {},
     "output_type": "execute_result"
    }
   ],
   "source": [
    "# len(result)"
   ]
  },
  {
   "cell_type": "code",
   "execution_count": 77,
   "metadata": {},
   "outputs": [],
   "source": [
    "from google_play_scraper import Sort, reviews"
   ]
  },
  {
   "cell_type": "code",
   "execution_count": 102,
   "metadata": {},
   "outputs": [],
   "source": [
    "result = reviews(\n",
    "    ################################# url에 id= 이후 부분 넣기\n",
    "    'com.wooribank.smart.npib',\n",
    "    lang='ko',\n",
    "    country='kr',\n",
    "    sort=Sort.MOST_RELEVANT,\n",
    "    ################################# 불러오고자 하는 리뷰 개수 입력\n",
    "    count=10000,\n",
    ")"
   ]
  },
  {
   "cell_type": "code",
   "execution_count": 96,
   "metadata": {},
   "outputs": [
    {
     "name": "stdout",
     "output_type": "stream",
     "text": [
      "([{'reviewId': 'gp:AOqpTOGER-vDg9a3cue7lazCrWrGhHyQRIH2aMf5LKZu1Yc8LOHjszVexGXBjXm1XPTp4LP92gKJoNV9LLqvaA', 'userName': '김흥서', 'userImage': 'https://play-lh.googleusercontent.com/a/AATXAJy4gYc7m0tK6p89YSGLLR3WF-MPP2V3_wwWodwo=mo', 'content': '[ W009474 ] 입출금알림을 원뱅킹앱으로 사용하면 연속적으로 출금이 됐을 때 푸시가 잘 안 와요. 예를 들어 1일에 자동이체 (적금 대출이자 등)가 비슷한 시간대에 되면 4개 중에 첫번째 푸시 하나만 뜬다든지 아예 안 뜬다든지 하는 경우가 많네요. 입출금 푸시를 가계부 앱이랑 연동시켜놨는데 놓치는 경우가 많습니다. 개선되었으면 좋겠어요', 'score': 5, 'thumbsUpCount': 125, 'reviewCreatedVersion': '2.2.1', 'at': datetime.datetime(2022, 4, 18, 23, 11, 58), 'replyContent': None, 'repliedAt': None}, {'reviewId': 'gp:AOqpTOFxoSU_oPWTS3Jz-oUArpuhtgmko66Qtc4Ciqa9E5sCJ39TzkI9KqMgnvd7Gw7RmW-016T9yZZB2Pu8rw', 'userName': 'so young kim', 'userImage': 'https://play-lh.googleusercontent.com/a/AATXAJzo3Xnsd4PHQ7ikEJaIpZcwZZmB-ElMVkDdBuz1=mo', 'content': '[ W009474 ] 확실히 간편해졌네요. 상품 가입도 쉽게 할 수 있어보이네요. 한눈에 보기편하게 바뀌어서 좋은듯 합니다. UI도 되게 깔끔해져서 보기 좋고 예전에도 있었던 기능인지는 잘 모르겠는데 이체내역결과상세정보를 확인증으로 바로 저장해서 갤러리에서 확인도 할 수 있어서 너무 좋아요', 'score': 5, 'thumbsUpCount': 145, 'reviewCreatedVersion': '2.2.0', 'at': datetime.datetime(2022, 4, 17, 22, 29, 2), 'replyContent': None, 'repliedAt': None}, {'reviewId': 'gp:AOqpTOGBtkoBwnYdEBLm5HhkTPrbnpjDwuiH8D9jK2VSEn0kUxaUmvl447eh8-xEumMQgsz-eYxPekwYVxZYdA', 'userName': '김옒', 'userImage': 'https://play-lh.googleusercontent.com/a-/AOh14GjXFDz9RsroENBgqNFsBfMApbLMiWmnakCqBDlZ5A', 'content': \"메모 통계기능 너무 좋은데 메모 구분하기 애매한것들이 많아서 자유롭게 항목 추가할 수 있었으면 좋겠어요!! 예를들면 용돈드린것, 친구생일선물 산 것, 생필품 산 것은 액수가 큰데 기타로 뭉뚱그려지는게 아쉬워요! (기타 액수가 너무 커져요) '용돈/선물', '생필품' 항목이 추가됐으면 좋겠습니다!! 입금도 더치페이 금액 받는 경우가 많아서 이 항목이 생겼으면 좋겠어요!\", 'score': 5, 'thumbsUpCount': 72, 'reviewCreatedVersion': '2.1.9', 'at': datetime.datetime(2022, 3, 5, 17, 51, 5), 'replyContent': '안녕하세요. 우리은행입니다. 항상 우리은행 우리WON뱅킹을 이용해주시고 피드백 주심에 감사드립니다. 고객님의 소중한 의견은 담당 부서로 전달하여 긍정적으로 검토될 수 있도록 하겠습니다. 더 나은 서비스를 제공하기 위해 항상 노력하겠습니다. 감사합니다.', 'repliedAt': datetime.datetime(2022, 3, 7, 18, 56, 51)}, {'reviewId': 'gp:AOqpTOEKPBtY7YfxJdXhUybEgvwO-aEU2LXnqS4-5O8Eb6WFL63hqoAh9SqwWq0qaRwQp9LopOzQA9bGjavzmw', 'userName': '장수봉', 'userImage': 'https://play-lh.googleusercontent.com/a/AATXAJzMG4moqg1BHvkaqAOg9dl5xB8YXA2JWuo3dUfy=mo', 'content': '계좌거래내역 페이지에서 거래내역을 클릭하거나 펼쳤을때 이체확인증버튼이 있거나 바로 확인 할 수 있으면 정말 편할것 같습니다 업그레이드 부탁드려봅니다~ 고객입장에서 뱅킹 개발해주시는 모습 수년전부터 지켜봐 왔습니다 타은행 뱅킹 프로그램보다 확실히 그부분이 나은걸 항상 느끼고있습니다~ 그리고아래내용은 진작에^^ 업그레이드 해주셨네요~ 감사합니다~^^ 얼마전 까지는 받는분 통장에 표시문구가 기본저장되어 있는것을 선택할수 있게 되어있었는데 없어져서 이젠 보낼때마다 입력해야하네요 이러면 다운그래이드 아닌가요? 이체건수가 많은 사람한테는 굉장히 편리한 기능인데 좋은걸 없애는건 이해할수가 없네요!!', 'score': 5, 'thumbsUpCount': 1, 'reviewCreatedVersion': None, 'at': datetime.datetime(2021, 8, 13, 12, 34, 17), 'replyContent': '안녕하세요. 장수봉 고객님, 우리은행입니다. 항상 우리은행 WON뱅킹을 사용해주시고, 좋은 의견도 주셔서 너무 감사드립니다. 말씀해주신 부분은 담당 부서에 전달하여 긍정적으로 검토하도록 하겠습니다. 앞으로도 계속 우리WON뱅킹에 많은 관심 부탁드립니다. 감사합니다\\n', 'repliedAt': datetime.datetime(2021, 8, 17, 11, 35, 35)}, {'reviewId': 'gp:AOqpTOHlor_0Hcip8DBi6W-6OfUq99juHuduEE-dFufFOctlRQ81PKxNlKIZ5ZZ3pOCw6zyLXvi3SqjaCU484g', 'userName': '가을하늘', 'userImage': 'https://play-lh.googleusercontent.com/a-/AOh14GiK1Vohoe9hsriim3lGUTaqF9cgVUqTpB-N5UCCpjw', 'content': '기존 앱에서 새 앱 알림이 떠서 설치하고 사용해봤는데, 지문 인증정보, 즐겨찾는 계좌 등등 기존에 사용했던 정보가 그대로라 편리하네요. 새 앱이라 지문이랑 인증서 새로 등록하고 설정해야하는줄 알고 걱정했는데 인터페이스만 바꼈을 뿐 기존 사용 인증 정보는 그대로 유지되네요. 기존 앱은 바로 삭제함. 그리고 더 직관적인 UI라 사용이 편리합니다. 기존엔 계좌이체시에 모든 정보를 한 화면에서 다 입력해야해서 스크롤을 아래로 내리는 등에 번거로움이 있었는데, 새 앱에서는 각 스탭별로 진행 되니까 좀더 스마트폰에 최적화 된 UI인거 깉아요. 개인적으로 기존 대비 이체 속도가 빨라져서 마음에 드네요. 앱 실행 속도도 기존에 비해 많이 향상 됨. 굿굿!!', 'score': 5, 'thumbsUpCount': 297, 'reviewCreatedVersion': '1.0.5', 'at': datetime.datetime(2019, 10, 1, 0, 58, 10), 'replyContent': None, 'repliedAt': None}, {'reviewId': 'gp:AOqpTOEOLJIVqhh2knGbZpQoayKY44O0Hc3iSf6TbPjYmtJnfnC4aYcSVtTdzjAUwf1OvQiiq0SHDkvhnSnc2A', 'userName': 'Hwang Seongseob', 'userImage': 'https://play-lh.googleusercontent.com/a/AATXAJwTOtR9PHgT39bn97HemGax24qN2rfjMqgDcZqM=mo', 'content': '굉장히 직관적이고 편리한 인터페이스가 인상적입니다. 당연히 핵심 기능에도 충실하구요. 주변에 우리은행 사용하시는 분들에게 새로운 App으로 업데이트하라고 추천도 좀 했습니다. ^^ 인터넷 뱅킹을 그대로 옮겨 놓은 듯한 다른 은행의 App과는 전혀 느낌이 다르네요. 특히 상품추천 기능을 많이 사용하게 될 것 같습니다.', 'score': 5, 'thumbsUpCount': 15, 'reviewCreatedVersion': '1.0.0', 'at': datetime.datetime(2019, 8, 16, 14, 28, 34), 'replyContent': None, 'repliedAt': None}, {'reviewId': 'gp:AOqpTOGzuzgkioQlf7DUW-f95A2YaPJpWr-FhPQfYSXslYtiTOv1sJzGL2T385r3CFHOl7q3WhihKeK80bFT9Q', 'userName': 'Stella Lee', 'userImage': 'https://play-lh.googleusercontent.com/a/AATXAJxlrd1qchrD38Fzhy4CHBoqJx_JPGR5gcGs-MIa=mo', 'content': '리모콘 on/off 버튼이 메인 화면에 나오게 변경 되었네요. 아주 좋습니다. 너무 편해졌습니다. 우리은행앱 잘 사용하겠습니다. 이전 리뷰) 리모콘on/off 버튼을 켜면 첫화면에 제일 먼저 나오거나, 간편비밀번호 누르는 화면에 버튼이 바로 보이게 해주세요. 로그인 한번하려면 화면을 6~7번을 터치해야 메인화면으로 갑니다. 잊고 리모콘 안', 'score': 5, 'thumbsUpCount': 47, 'reviewCreatedVersion': '1.1.9', 'at': datetime.datetime(2019, 12, 1, 9, 17, 57), 'replyContent': None, 'repliedAt': None}, {'reviewId': 'gp:AOqpTOEaSFbE5Eeu_Pnek2XyEHLhAUkTSvGBFJK6Pdh8VvZL0hUT77L-TTv5hNlIgE9qpBA-dkJkFjCmQYqCfg', 'userName': '시아', 'userImage': 'https://play-lh.googleusercontent.com/a/AATXAJyaJu56WJ0GQdqeYMy-Afyrv6vpUooEsObkWnuN=mo', 'content': '어플 깔끔해진것 마음에 듭니다. 다만 추가로 개선 바라는 점이 몇가지 생겼습니다. 기존 원터치개인처럼 위젯으로 폰 바탕화면에 간편이체, 스마트 출금 등의 메뉴가 노출되면 좋겠습니다. 홈화면 아래쪽에 메뉴가 그림으로 나와있는데 무슨 메뉴인지 한글로 메뉴이름이 나와있으면 좋겠습니다. 터치 해야만 보이는 점이 조금 아쉽습니다.', 'score': 5, 'thumbsUpCount': 8, 'reviewCreatedVersion': '1.0.1', 'at': datetime.datetime(2019, 8, 17, 14, 29, 38), 'replyContent': '안녕하세요, 우리은행입니다. 개선 사항 전해 주시어 감사 말씀 드립니다. 하단 한글로 된 하단 메뉴의 실 명칭 노출 건에 대해 유관 부서에 전달 및 검토 하도록 하겠습니다. 감사합니다.', 'repliedAt': datetime.datetime(2019, 8, 23, 16, 39, 50)}, {'reviewId': 'gp:AOqpTOHt-WiJemdZr7dcK9EA1qawOp70FERT02yVs3AP8h5X310Cls83i9FwK7tMJdaICfsTvLzx-UZzBWiqCg', 'userName': '이재현', 'userImage': 'https://play-lh.googleusercontent.com/a/AATXAJwyv4vttqIpkXNIYfvOzB4CvEl2KRMzaCh9-pZb=mo', 'content': '확실히 간편해졌네요. 상품 가입도 쉽게 할 수 있어보이네요. 한눈에 보기편하게 바뀌어서 좋은듯 합니다. 저는 해외에 거주중인데 구 버전에 비해 너무 느리고 연결이 안될때가 있네요. 간편이체 등록하려고 보니 추가인증에 통신사로 확인하려 하는데 없는 번호이거나 지원되지 않는 핸드폰이라네요ㅠ 겔럭시 노트7 FE씁니다. 확인부탁드립니다. 구버전도 이제 종료 되는것 같던데 모바일 뱅킹 안되면 많이 불편해질듯 합니다.', 'score': 5, 'thumbsUpCount': 5, 'reviewCreatedVersion': '1.1.0', 'at': datetime.datetime(2019, 10, 15, 3, 52, 31), 'replyContent': '안녕하세요, 이재현 고객님. 우리은행입니다. 우선 의견 주심에 감사 드립니다. 휴대폰 본인인증의 경우 정보업체에 따라 해외 지원이 되지 않을 수 있습니다. 다만, 간편이체 등록 관련하여서는 내용 확인이 필요할 듯 하나 고객님과의 접촉이 해외 시간대인 만큼 어려울 것으로 보여집니다. 개발자 메일 계정(ubanking@wooribank.com)으로 고객님의 구체적 사양(OS 버전 등) 및 고객정보(ID 및 거래시간 등), 그리고 가능하시면 에러메시지의 캡쳐본까지 전달 주시면 유관 부서에 내용 전달하여 답변 드릴 수 있도록 하겠습니다. 감사합니다.', 'repliedAt': datetime.datetime(2019, 10, 15, 11, 5, 9)}, {'reviewId': 'gp:AOqpTOGqr8vsHuQhR8WtjCbLRD-YjK7Digk5KfawMQa5XJqSMfeyOfbcayIENZU-GmvQkbpEWHBrqlY8wgu5Eg', 'userName': 'ᄋᄋ', 'userImage': 'https://play-lh.googleusercontent.com/a-/AOh14GhYqGNt14T0yNYBGa7MIcyhbjihazIGTdp_XPA1nA', 'content': '처음에 등록하다가 짜증나서 별점1점인가 2점줬는데 요즘 쓰기 편해져서 매우 만족중 등록절차가 어떻게 개선됐는지 모르겠지만 등록후엔 괜찮음 계좌복사하면 밑에 바로 뜨고 속도도 좀 빨라진듯? 갈아타고싶을 때가 한두번이 아니었는데 점점 나아지는 거 같아서.. 만족중임', 'score': 5, 'thumbsUpCount': 10, 'reviewCreatedVersion': '1.4.2', 'at': datetime.datetime(2020, 10, 24, 20, 6, 55), 'replyContent': '안녕하세요 고객님 우리은행입니다. 칭찬 진심으로 감사드리며, 더욱 편리하고 안정적인 서비스 제공을 위해 노력하겠습니다. 감사합니다.', 'repliedAt': datetime.datetime(2020, 10, 26, 11, 26, 18)}, {'reviewId': 'gp:AOqpTOF4dtoMZAOlOzIDXiqElchXrK7U_g4I2ZAiJ-aIUgXpj_MXlo3gNmdJHmCBgBo6a5G_3mWcLBSXToHVHA', 'userName': '우앵', 'userImage': 'https://play-lh.googleusercontent.com/a-/AOh14GgaS-Eu6iYSSWQWrxVI4zUY6hcKz1qrQLp_cMMvPA', 'content': 'UI도 되게 깔끔해져서 보기 좋고 예전에도 있었던 기능인지는 잘 모르겠는데 이체내역결과상세정보를 확인증으로 바로 저장해서 갤러리에서 확인도 할 수 있어서 너무 좋아요! 평점이 너무 안좋아서 갈아타야하나 걱정했는데 막상 깔아보니 전 어플과 크게 다르게 어려운 점도 없고 이것도 쉽게 적응해서 잘 쓸 것 같습니다ㅎㅎ', 'score': 5, 'thumbsUpCount': 348, 'reviewCreatedVersion': '1.1.6', 'at': datetime.datetime(2019, 11, 8, 17, 34, 13), 'replyContent': None, 'repliedAt': None}, {'reviewId': 'gp:AOqpTOGei-y7uVInauWmpBiM6bonN0dZ4_xKkqHgXGLWt7h8Rtssms0Xgj_o0tT_3bE4qBv5u8Jw2h15ywSW8g', 'userName': '서동현', 'userImage': 'https://play-lh.googleusercontent.com/a/AATXAJz6PlI4G5pupLarl1OCofOMJi_mPWfRE4Lm3wjc=mo', 'content': '안녕하세요 우리은행 첫거래인데요~ 비대면으로 어플 설치 및 가입을 진행 중입니다. 공인인증서가 없어도 한도계좌계설, 오픈뱅킹 가입, 스마트 OTP까지 가입이 다 돼서 좋더라고요 다만 궁금한 점이 있다면 비대면으로 만든계좌에서 타 계좌로 이제하려고 하니 마지막에 \"기기에 저장된 인증서가 없습니다\"라고 나오더라고요 반드시 인증서를 발급받아야만 이체 진행이 가능한건가요? 생체인증서 발급으로도 진행이 가능한건 알고 있는데, 이미 스마트 OTP 가입이나 본인인증 등 다수의 거래를 거쳐서 진행을 했는데 반드시 인증서 발급 과정이 더 필요한지 궁금해서 문의드립니다. 어플에 대한 디자인이나 꼭 필요한 기능이 한 눈에 잘 보이는건 칭찬할만 하네요~', 'score': 5, 'thumbsUpCount': 2, 'reviewCreatedVersion': '1.3.8', 'at': datetime.datetime(2020, 8, 29, 15, 19, 20), 'replyContent': \"안녕하세요. 서동현 고객님, 우리은행입니다. 따뜻한 칭찬에 감사드립니다. 휴대폰에 등록된 생체정보로 인증을 원하시는 경우, 인증/보안 - 생체인증센터 - 생체인증 등록 거래에서 생체인증 서비스를 등록하시면 OTP/인증서 없이 거래인증이 가능합니다. 단, 생체인증 등록시에는 OTP 인증이 필요합니다. 아울러 이체거래시 거래인증 자체를 생략하시려면 간편이체 서비스 등록해 하루 5백만원까지 보안매체,인증서 없는 이체거래가 가능합니다. '전체메뉴-이체/출금-이체 관리 - 간편이체'에서 등록 가능합니다. 간편이체 등록시 보안수단과 인증서를 요구하므로 생체인증 먼저 등록하시길 부탁드립니다. 감사합니다.\", 'repliedAt': datetime.datetime(2020, 8, 31, 18, 40, 23)}, {'reviewId': 'gp:AOqpTOFpw-edQdCCscgOoPonhLRcqEwSt2XrDSeq8Gnv1UoxNTQp3r4k4Wry2qu3dgUtuGTtEHVI2ARDqQRjUg', 'userName': '박순용', 'userImage': 'https://play-lh.googleusercontent.com/a/AATXAJy7zwsy9Q77ApNn_tFvgLPuGIqvB2mtXTYsM-xs=mo', 'content': \"칭찬 글 올립니다. 원터치 개인뱅킹보다 이번에 출시된 우리WON뱅킹이 훨씬더 쓰기가 편리합니다. 비대면 본인확인 인증 절차가 까다로워졌지만' 본인확인 인증이 완료되면' 계좌이체할때' 보안카드가 필요없는 지문인증 하나만으로도 사용할수 있기에 무척 편리합니다. 앱 개발자, 우리은행 종사자 여러분 힘내시고 화이팅 하세요!!\", 'score': 5, 'thumbsUpCount': 39, 'reviewCreatedVersion': '1.5.3', 'at': datetime.datetime(2021, 1, 28, 5, 4, 27), 'replyContent': '안녕하세요, 고객님 우리은행입니다. 응원과 격려의 말씀 진심으로 감사드립니다. 언제 어디서나 고객님의 말씀을 경청하고, 바로바로 반영하는 우리은행이 되겠습니다. 다시 한 번 감사드립니다.\\n', 'repliedAt': datetime.datetime(2021, 1, 28, 18, 32, 38)}, {'reviewId': 'gp:AOqpTOEZqZsmdbsY59FTPVchkJO_L8s9JLps3wa_49LkuwAT13O0Rr0or8Jm0rIPpSyzB_on1R_YAbReyn1Pqw', 'userName': '오동협', 'userImage': 'https://play-lh.googleusercontent.com/a/AATXAJyz7z5WxLkl8r62srZnS8Oz30fB_msNriritKAO=mo', 'content': '가장 좋은건 역시 알림서비스 통합. 앱 따로 안깔아도 됨. 체크 연결해서 쓰는데 알림재깍 잘 옵니다, 직관적 UI, 그럼에도 기능은 빠지지 않음. 오프라인 1금융권 앱 중 제일 낫습니다. 앱보고 거래은행 바꿨네요.', 'score': 5, 'thumbsUpCount': 4, 'reviewCreatedVersion': '1.2.0', 'at': datetime.datetime(2019, 12, 3, 21, 1, 9), 'replyContent': '안녕하세요 오동협 고객님. 칭찬의 말씀에 감사 인사 올립니다. 고객님의 기대에 부응할 수 있도록 편리한 서비스 제공에 최선을 다하겠습니다. 감사합니다.', 'repliedAt': datetime.datetime(2019, 12, 5, 16, 31, 20)}, {'reviewId': 'gp:AOqpTOEOZIPC31P5pdYvjqm3mWV2tTVfMqV2WNjNLqaEnJIJJ8laxIEhZFPem1AD7WqAl8z7cFcMgpSSp2ZGCg', 'userName': 'hyun jin go', 'userImage': 'https://play-lh.googleusercontent.com/a/AATXAJzbu3G7JBMhV2PUna30GCHDVBbPkGaDJZXBKrBI=mo', 'content': '[ W009474 ] 굉장히 직관적이고 편리한 인터페이스가 인상적입니다. 당연히 핵심 기능에도 충실하구요. 어플 깔끔해진것 마음에 듭니다. 확실히 간편해졌네요. 상품 가입도 쉽게 할 수 있어보이네요. 한눈에 보기편하게 바뀌어서 좋은듯 합니다.', 'score': 5, 'thumbsUpCount': 11, 'reviewCreatedVersion': '2.2.0', 'at': datetime.datetime(2022, 4, 8, 1, 25, 58), 'replyContent': '안녕하세요. 고객님, 우리은행 우리WON뱅킹을 이용해주셔서 감사합니다. 더욱 편리하고 안정적인 서비스 제공을 위해 최선을 다하겠습니다. 또한 이용에 불편사항이나 오류사항은 언제든지 문의 주시면 신속하게 해결할 수 있도록 하겠습니다. 감사합니다.', 'repliedAt': datetime.datetime(2022, 4, 8, 10, 54, 13)}, {'reviewId': 'gp:AOqpTOHYMVDU0Yo3YoDsLqLNcvSEEyGbZ4ZeAYruQGQCGBLheJfwSN4UU0NHNFQ5W6YQX7Hr_f302TI3saNgIA', 'userName': '박지효', 'userImage': 'https://play-lh.googleusercontent.com/a/AATXAJyffyFXSP03TyeS4tbmLJidh1xvPIWUzKA0yi4=mo', 'content': '[ W009474 ] 기존 어플보다 사용법이 복잡하지않고 간단해보여서 나쁘진 않지만 .. 기존 어플 업그레이드가 아닌 굳이 새 어플로 다시 받아야 하는지는 모르겠습니다.. 어쨌던 간편해서 좋네요', 'score': 5, 'thumbsUpCount': 0, 'reviewCreatedVersion': '2.2.0', 'at': datetime.datetime(2022, 4, 17, 23, 3, 52), 'replyContent': None, 'repliedAt': None}, {'reviewId': 'gp:AOqpTOGEo5SRCNKwOw1o39ACV5Aup4_L06kRU7kgp3RiELAkWJCl4tvmycCpqK1Kci41H2jRWnx4KZHC_ElKxA', 'userName': '정진수', 'userImage': 'https://play-lh.googleusercontent.com/a/AATXAJzSOTvu6CxtmR5j0nidKAB8OOWYVj_GMiVpv6b5=mo', 'content': 'W009474 아주많이 편안하고 나이먹은 나로서는 아주많이 좋아요 은행에 정보등 편리해요 정말 좋아요 계속 사용을 할수 있도록 업그레이드 해 주세요 주거래은행을 우리은행으로 바꾸고 사용중입니다.너무 편리합니다.앞으로 꾸준한 업뎃바랍니다^^♡', 'score': 5, 'thumbsUpCount': 2, 'reviewCreatedVersion': '2.2.0', 'at': datetime.datetime(2022, 4, 8, 17, 47, 48), 'replyContent': '안녕하세요, 정진수 고객님 우리은행입니다. 칭찬 진심으로 감사드리며 좀 더 고객님께 편리하고 안정적인 서비스 제공을 위해 최선을 다하겠습니다. 다시 한 번 감사드립니다.', 'repliedAt': datetime.datetime(2022, 4, 12, 19, 20, 27)}, {'reviewId': 'gp:AOqpTOEr1ncDU4bmVojtnzK4wGZEjKMrBnuTYxYyXFNoJXmYxufbx-EI5-cY7o32oD5MnhXvdqecqizV6Qypvg', 'userName': 'English Cat', 'userImage': 'https://play-lh.googleusercontent.com/a-/AOh14Gh_2yptfKD349L3Gbd_isre6slduxjyR14jVKl26KY', 'content': '와우. 우리won으로 바뀌었으니 업뎃하라고 팝업떠서 업뎃했더니 타기관 공동인증서 등록이 안되네요 허허허 정보입력으로 넘어가야하는데 인증서 비번넣으라는 팝업이뜨고 인증서등록전이니 당연히 아니라고 나오고. 아니 이번 버전에선 뫼비우스띠를 다셨나.. 계좌에서 인출 못하게 하시려던건 아닐테고....껄껄껄 개발자가 요거까진 몰랐겠죠 뭐.. 돈 안 급하고 시간이 겁나 있는 개인 유저는 번거롭지않은 pc로 타은행 인증서 등록해서 스마트폰으로 인증서 내보내기해서 등록하면 아주 쉽고 단단하게 폰에서도 사용이 가능하게 될거란 99.9%의 확신을 갖고있습니다. 항상 유저입장에서 테스트 하시겠지만 더 꼼꼼하게 살펴주세요. 네이버도 매번 오류나서 신고하면 고치고 고치고 돈도 많이 받을텐데 왜이리 설렁설렁 일을 하는건지 에휴.. 뭐 괜찮습니다 앱뱅킹전엔 인뱅이 있고 인뱅전엔 유선전화뱅이 있고. 뭐 아무것도 안되면 창구 가서 수수료 왕창내며 일보면 되쥬 은행이 파산하고 사라진것도 아닌데 뭐 괜찮습니드.', 'score': 5, 'thumbsUpCount': 1, 'reviewCreatedVersion': '2.1.8', 'at': datetime.datetime(2022, 2, 15, 6, 8, 58), 'replyContent': None, 'repliedAt': None}, {'reviewId': 'gp:AOqpTOFY5EB69jPOobe3NZKbcC0pLEBn4spvycG-OCxHZWQEpT2HLMBDdtUohHFfLK2affmOM--t6yHo-CKSLQ', 'userName': '배혜진', 'userImage': 'https://play-lh.googleusercontent.com/a/AATXAJxUGy4xbYBlS568qKp8mp1GDiGRuM2fqxB5A1NJ=mo', 'content': '늘~ 느낌니다~ 너무 편하고 좋아서 말로는 어떻게 표현 할 수가 없을 정도로 좋습다~^^♡', 'score': 5, 'thumbsUpCount': 1, 'reviewCreatedVersion': '2.2.1', 'at': datetime.datetime(2022, 4, 20, 9, 59, 1), 'replyContent': '안녕하세요, 배혜진 고객님 우리은행입니다. 칭찬 진심으로 감사드리며 좀 더 고객님께 편리하고 안정적인 서비스 제공을 위해 최선을 다하겠습니다. 다시 한 번 감사드립니다.\\n', 'repliedAt': datetime.datetime(2022, 4, 22, 15, 45, 46)}, {'reviewId': 'gp:AOqpTOGhJRvn-OP9JkJP-55LSA9kZIpM6CxJPyCPczjx0jhJHNmZWVdhM3P_ZcjeYEMl9ucu5V5ouKrOJ1xHUQ', 'userName': '늘보는사이키', 'userImage': 'https://play-lh.googleusercontent.com/a-/AOh14GiAES17aK83pJkQB3SCK2nDRSG1inQ90_YZZl-U', 'content': '찾고자 하는것들은 선택하면 다나오고 그러니까 꽤 유용한어플 인거같습니다.', 'score': 5, 'thumbsUpCount': 0, 'reviewCreatedVersion': '2.2.1', 'at': datetime.datetime(2022, 4, 29, 15, 57, 49), 'replyContent': None, 'repliedAt': None}], <google_play_scraper.features.reviews._ContinuationToken object at 0x00000208B349CB30>)\n"
     ]
    }
   ],
   "source": [
    "# print(result)"
   ]
  },
  {
   "cell_type": "code",
   "execution_count": 103,
   "metadata": {},
   "outputs": [
    {
     "name": "stdout",
     "output_type": "stream",
     "text": [
      "8953\n"
     ]
    }
   ],
   "source": [
    "print(len(result[0]))"
   ]
  },
  {
   "cell_type": "code",
   "execution_count": 133,
   "metadata": {},
   "outputs": [],
   "source": [
    "df = pd.DataFrame()\n",
    "\n",
    "df['date'] = list(map(lambda x: x['at'].strftime(\"%Y-%m-%d\"), result[0]))\n",
    "df['dateYear'] = list(map(lambda x: x['at'].year, result[0]))\n",
    "df['dateMonth'] = list(map(lambda x: x['at'].month, result[0]))\n",
    "df['dateDay'] = list(map(lambda x: x['at'].day, result[0]))\n",
    "df['rating'] = list(map(lambda x: x['score'], result[0]))\n",
    "df['userName'] = list(map(lambda x: x['userName'], result[0]))\n",
    "df['content'] = list(map(lambda x: x['content'], result[0]))\n",
    "df['dateYearMonth'] = list(map(lambda x: x['at'].strftime(\"%Y-%m\"), result[0]))"
   ]
  },
  {
   "cell_type": "code",
   "execution_count": 134,
   "metadata": {},
   "outputs": [
    {
     "data": {
      "text/html": [
       "<div>\n",
       "<style scoped>\n",
       "    .dataframe tbody tr th:only-of-type {\n",
       "        vertical-align: middle;\n",
       "    }\n",
       "\n",
       "    .dataframe tbody tr th {\n",
       "        vertical-align: top;\n",
       "    }\n",
       "\n",
       "    .dataframe thead th {\n",
       "        text-align: right;\n",
       "    }\n",
       "</style>\n",
       "<table border=\"1\" class=\"dataframe\">\n",
       "  <thead>\n",
       "    <tr style=\"text-align: right;\">\n",
       "      <th></th>\n",
       "      <th>date</th>\n",
       "      <th>dateYear</th>\n",
       "      <th>dateMonth</th>\n",
       "      <th>dateDay</th>\n",
       "      <th>rating</th>\n",
       "      <th>userName</th>\n",
       "      <th>content</th>\n",
       "      <th>dateYearMonth</th>\n",
       "    </tr>\n",
       "  </thead>\n",
       "  <tbody>\n",
       "    <tr>\n",
       "      <th>0</th>\n",
       "      <td>2022-04-18</td>\n",
       "      <td>2022</td>\n",
       "      <td>4</td>\n",
       "      <td>18</td>\n",
       "      <td>5</td>\n",
       "      <td>김흥서</td>\n",
       "      <td>[ W009474 ] 입출금알림을 원뱅킹앱으로 사용하면 연속적으로 출금이 됐을 때 ...</td>\n",
       "      <td>2022-04</td>\n",
       "    </tr>\n",
       "    <tr>\n",
       "      <th>1</th>\n",
       "      <td>2022-04-17</td>\n",
       "      <td>2022</td>\n",
       "      <td>4</td>\n",
       "      <td>17</td>\n",
       "      <td>5</td>\n",
       "      <td>so young kim</td>\n",
       "      <td>[ W009474 ] 확실히 간편해졌네요. 상품 가입도 쉽게 할 수 있어보이네요. ...</td>\n",
       "      <td>2022-04</td>\n",
       "    </tr>\n",
       "    <tr>\n",
       "      <th>2</th>\n",
       "      <td>2022-04-27</td>\n",
       "      <td>2022</td>\n",
       "      <td>4</td>\n",
       "      <td>27</td>\n",
       "      <td>1</td>\n",
       "      <td>이정신</td>\n",
       "      <td>우리은행에서 발급한 인증서를 가져오기해서 등록했지만 새로 로그인할때마다 등록된 인증...</td>\n",
       "      <td>2022-04</td>\n",
       "    </tr>\n",
       "    <tr>\n",
       "      <th>3</th>\n",
       "      <td>2022-03-11</td>\n",
       "      <td>2022</td>\n",
       "      <td>3</td>\n",
       "      <td>11</td>\n",
       "      <td>1</td>\n",
       "      <td>이소현</td>\n",
       "      <td>잘 될때는 잘 되지만 한 번 에러 발생하면 진짜 30분을 넘게 결제를 반복해서 진행...</td>\n",
       "      <td>2022-03</td>\n",
       "    </tr>\n",
       "    <tr>\n",
       "      <th>4</th>\n",
       "      <td>2022-03-03</td>\n",
       "      <td>2022</td>\n",
       "      <td>3</td>\n",
       "      <td>3</td>\n",
       "      <td>1</td>\n",
       "      <td>박경한</td>\n",
       "      <td>신분증 촬영이 안되네요. 초점이 안맞질않나 초점이 맞아서 제대로 맞춰도 아무반응이없...</td>\n",
       "      <td>2022-03</td>\n",
       "    </tr>\n",
       "  </tbody>\n",
       "</table>\n",
       "</div>"
      ],
      "text/plain": [
       "         date  dateYear  dateMonth  dateDay  rating      userName  \\\n",
       "0  2022-04-18      2022          4       18       5           김흥서   \n",
       "1  2022-04-17      2022          4       17       5  so young kim   \n",
       "2  2022-04-27      2022          4       27       1           이정신   \n",
       "3  2022-03-11      2022          3       11       1           이소현   \n",
       "4  2022-03-03      2022          3        3       1           박경한   \n",
       "\n",
       "                                             content dateYearMonth  \n",
       "0  [ W009474 ] 입출금알림을 원뱅킹앱으로 사용하면 연속적으로 출금이 됐을 때 ...       2022-04  \n",
       "1  [ W009474 ] 확실히 간편해졌네요. 상품 가입도 쉽게 할 수 있어보이네요. ...       2022-04  \n",
       "2  우리은행에서 발급한 인증서를 가져오기해서 등록했지만 새로 로그인할때마다 등록된 인증...       2022-04  \n",
       "3  잘 될때는 잘 되지만 한 번 에러 발생하면 진짜 30분을 넘게 결제를 반복해서 진행...       2022-03  \n",
       "4  신분증 촬영이 안되네요. 초점이 안맞질않나 초점이 맞아서 제대로 맞춰도 아무반응이없...       2022-03  "
      ]
     },
     "execution_count": 134,
     "metadata": {},
     "output_type": "execute_result"
    }
   ],
   "source": [
    "df.head()"
   ]
  },
  {
   "cell_type": "code",
   "execution_count": null,
   "metadata": {},
   "outputs": [],
   "source": [
    "################################################### 저장할 위치 바꾸기\n",
    "df.to_csv('C:/Users/yello/mba/wooribank_review_dataset.csv', encoding = 'utf-8-sig', index=False) # csv 파일로 저장"
   ]
  },
  {
   "cell_type": "code",
   "execution_count": null,
   "metadata": {},
   "outputs": [],
   "source": []
  },
  {
   "cell_type": "code",
   "execution_count": 119,
   "metadata": {},
   "outputs": [],
   "source": [
    "# result_kakao = reviews(\n",
    "#     'com.kakaobank.channel',    \n",
    "#     lang='ko',\n",
    "#     country='kr',\n",
    "#     sort=Sort.MOST_RELEVANT,\n",
    "#     count=20000,\n",
    "# )"
   ]
  },
  {
   "cell_type": "code",
   "execution_count": 120,
   "metadata": {},
   "outputs": [
    {
     "name": "stdout",
     "output_type": "stream",
     "text": [
      "17886\n"
     ]
    }
   ],
   "source": [
    "# print(len(result_kakao[0]))"
   ]
  },
  {
   "cell_type": "code",
   "execution_count": null,
   "metadata": {},
   "outputs": [],
   "source": []
  }
 ],
 "metadata": {
  "kernelspec": {
   "display_name": "Python 3",
   "language": "python",
   "name": "python3"
  },
  "language_info": {
   "codemirror_mode": {
    "name": "ipython",
    "version": 3
   },
   "file_extension": ".py",
   "mimetype": "text/x-python",
   "name": "python",
   "nbconvert_exporter": "python",
   "pygments_lexer": "ipython3",
   "version": "3.8.5"
  }
 },
 "nbformat": 4,
 "nbformat_minor": 4
}
