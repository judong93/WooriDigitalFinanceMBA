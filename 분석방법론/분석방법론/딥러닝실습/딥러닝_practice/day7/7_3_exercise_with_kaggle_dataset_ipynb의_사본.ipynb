{
  "cells": [
    {
      "cell_type": "markdown",
      "id": "c4af52e7",
      "metadata": {
        "id": "c4af52e7"
      },
      "source": [
        "[![Open in Colab](https://colab.research.google.com/assets/colab-badge.svg)](https://colab.research.google.com/github/SLCFLAB/Data-Science-Python/blob/main/Day%207/7_3.exercise_with_kaggle_dataset.ipynb)"
      ]
    },
    {
      "cell_type": "markdown",
      "id": "181444d9",
      "metadata": {
        "id": "181444d9"
      },
      "source": [
        "# Part 3: Exercise with Kaggle Dataset"
      ]
    },
    {
      "cell_type": "markdown",
      "id": "17e3b5eb",
      "metadata": {
        "id": "17e3b5eb"
      },
      "source": [
        "Welcome to the third part of today's lab session. You just learned some visualization and clustering skills. But the thing is you haven't done it by yourself. In this part, you will practice making visualized outputs and trying data clustering with different Kaggle data."
      ]
    },
    {
      "cell_type": "markdown",
      "id": "5ca7ba90",
      "metadata": {
        "id": "5ca7ba90"
      },
      "source": [
        "## Import libraries"
      ]
    },
    {
      "cell_type": "code",
      "execution_count": 3,
      "id": "d5dff267",
      "metadata": {
        "id": "d5dff267"
      },
      "outputs": [],
      "source": [
        "import numpy as np\n",
        "import pandas as pd\n",
        "import matplotlib.pyplot as plt\n",
        "%matplotlib inline\n",
        "import seaborn as sns"
      ]
    },
    {
      "cell_type": "markdown",
      "id": "ce66b756",
      "metadata": {
        "id": "ce66b756"
      },
      "source": [
        "## Prepare data"
      ]
    },
    {
      "cell_type": "markdown",
      "id": "d6687185",
      "metadata": {
        "id": "d6687185"
      },
      "source": [
        "We will use New York taxi data for data visualization and penguin data for clustering. You can check out the descriptions for each dataset in the url below.   \n",
        "\n",
        "\n",
        "Taxi: https://www1.nyc.gov/site/tlc/about/tlc-trip-record-data.page    \n",
        "Penguins: https://github.com/allisonhorst/penguins"
      ]
    },
    {
      "cell_type": "markdown",
      "id": "d81f4e19",
      "metadata": {
        "id": "d81f4e19"
      },
      "source": [
        "### Taxis"
      ]
    },
    {
      "cell_type": "code",
      "execution_count": null,
      "id": "2ae99293",
      "metadata": {
        "id": "2ae99293"
      },
      "outputs": [],
      "source": [
        "taxis = sns.load_dataset('taxis')"
      ]
    },
    {
      "cell_type": "code",
      "execution_count": null,
      "id": "43fed678",
      "metadata": {
        "id": "43fed678",
        "outputId": "c2d53793-55b2-4911-9438-33fa73fcb123",
        "colab": {
          "base_uri": "https://localhost:8080/"
        }
      },
      "outputs": [
        {
          "output_type": "execute_result",
          "data": {
            "text/plain": [
              "(6433, 14)"
            ]
          },
          "metadata": {},
          "execution_count": 3
        }
      ],
      "source": [
        "taxis.shape"
      ]
    },
    {
      "cell_type": "code",
      "execution_count": null,
      "id": "16b9e29d",
      "metadata": {
        "id": "16b9e29d",
        "outputId": "a175c34a-8f8d-4eac-bc66-f864fb07d748",
        "colab": {
          "base_uri": "https://localhost:8080/"
        }
      },
      "outputs": [
        {
          "output_type": "stream",
          "name": "stdout",
          "text": [
            "<class 'pandas.core.frame.DataFrame'>\n",
            "RangeIndex: 6433 entries, 0 to 6432\n",
            "Data columns (total 14 columns):\n",
            " #   Column           Non-Null Count  Dtype  \n",
            "---  ------           --------------  -----  \n",
            " 0   pickup           6433 non-null   object \n",
            " 1   dropoff          6433 non-null   object \n",
            " 2   passengers       6433 non-null   int64  \n",
            " 3   distance         6433 non-null   float64\n",
            " 4   fare             6433 non-null   float64\n",
            " 5   tip              6433 non-null   float64\n",
            " 6   tolls            6433 non-null   float64\n",
            " 7   total            6433 non-null   float64\n",
            " 8   color            6433 non-null   object \n",
            " 9   payment          6389 non-null   object \n",
            " 10  pickup_zone      6407 non-null   object \n",
            " 11  dropoff_zone     6388 non-null   object \n",
            " 12  pickup_borough   6407 non-null   object \n",
            " 13  dropoff_borough  6388 non-null   object \n",
            "dtypes: float64(5), int64(1), object(8)\n",
            "memory usage: 703.7+ KB\n"
          ]
        }
      ],
      "source": [
        "taxis.info()"
      ]
    },
    {
      "cell_type": "code",
      "execution_count": null,
      "id": "139e2a38",
      "metadata": {
        "id": "139e2a38",
        "outputId": "901896bb-fe2f-4551-b10e-7c6af770c132",
        "colab": {
          "base_uri": "https://localhost:8080/",
          "height": 444
        }
      },
      "outputs": [
        {
          "output_type": "execute_result",
          "data": {
            "text/plain": [
              "                pickup              dropoff  passengers  distance  fare   tip  \\\n",
              "0  2019-03-23 20:21:09  2019-03-23 20:27:24           1      1.60   7.0  2.15   \n",
              "1  2019-03-04 16:11:55  2019-03-04 16:19:00           1      0.79   5.0  0.00   \n",
              "2  2019-03-27 17:53:01  2019-03-27 18:00:25           1      1.37   7.5  2.36   \n",
              "3  2019-03-10 01:23:59  2019-03-10 01:49:51           1      7.70  27.0  6.15   \n",
              "4  2019-03-30 13:27:42  2019-03-30 13:37:14           3      2.16   9.0  1.10   \n",
              "\n",
              "   tolls  total   color      payment            pickup_zone  \\\n",
              "0    0.0  12.95  yellow  credit card        Lenox Hill West   \n",
              "1    0.0   9.30  yellow         cash  Upper West Side South   \n",
              "2    0.0  14.16  yellow  credit card          Alphabet City   \n",
              "3    0.0  36.95  yellow  credit card              Hudson Sq   \n",
              "4    0.0  13.40  yellow  credit card           Midtown East   \n",
              "\n",
              "            dropoff_zone pickup_borough dropoff_borough  \n",
              "0    UN/Turtle Bay South      Manhattan       Manhattan  \n",
              "1  Upper West Side South      Manhattan       Manhattan  \n",
              "2           West Village      Manhattan       Manhattan  \n",
              "3         Yorkville West      Manhattan       Manhattan  \n",
              "4         Yorkville West      Manhattan       Manhattan  "
            ],
            "text/html": [
              "\n",
              "  <div id=\"df-3d679310-d833-4c38-94ac-cef5e3e25234\">\n",
              "    <div class=\"colab-df-container\">\n",
              "      <div>\n",
              "<style scoped>\n",
              "    .dataframe tbody tr th:only-of-type {\n",
              "        vertical-align: middle;\n",
              "    }\n",
              "\n",
              "    .dataframe tbody tr th {\n",
              "        vertical-align: top;\n",
              "    }\n",
              "\n",
              "    .dataframe thead th {\n",
              "        text-align: right;\n",
              "    }\n",
              "</style>\n",
              "<table border=\"1\" class=\"dataframe\">\n",
              "  <thead>\n",
              "    <tr style=\"text-align: right;\">\n",
              "      <th></th>\n",
              "      <th>pickup</th>\n",
              "      <th>dropoff</th>\n",
              "      <th>passengers</th>\n",
              "      <th>distance</th>\n",
              "      <th>fare</th>\n",
              "      <th>tip</th>\n",
              "      <th>tolls</th>\n",
              "      <th>total</th>\n",
              "      <th>color</th>\n",
              "      <th>payment</th>\n",
              "      <th>pickup_zone</th>\n",
              "      <th>dropoff_zone</th>\n",
              "      <th>pickup_borough</th>\n",
              "      <th>dropoff_borough</th>\n",
              "    </tr>\n",
              "  </thead>\n",
              "  <tbody>\n",
              "    <tr>\n",
              "      <th>0</th>\n",
              "      <td>2019-03-23 20:21:09</td>\n",
              "      <td>2019-03-23 20:27:24</td>\n",
              "      <td>1</td>\n",
              "      <td>1.60</td>\n",
              "      <td>7.0</td>\n",
              "      <td>2.15</td>\n",
              "      <td>0.0</td>\n",
              "      <td>12.95</td>\n",
              "      <td>yellow</td>\n",
              "      <td>credit card</td>\n",
              "      <td>Lenox Hill West</td>\n",
              "      <td>UN/Turtle Bay South</td>\n",
              "      <td>Manhattan</td>\n",
              "      <td>Manhattan</td>\n",
              "    </tr>\n",
              "    <tr>\n",
              "      <th>1</th>\n",
              "      <td>2019-03-04 16:11:55</td>\n",
              "      <td>2019-03-04 16:19:00</td>\n",
              "      <td>1</td>\n",
              "      <td>0.79</td>\n",
              "      <td>5.0</td>\n",
              "      <td>0.00</td>\n",
              "      <td>0.0</td>\n",
              "      <td>9.30</td>\n",
              "      <td>yellow</td>\n",
              "      <td>cash</td>\n",
              "      <td>Upper West Side South</td>\n",
              "      <td>Upper West Side South</td>\n",
              "      <td>Manhattan</td>\n",
              "      <td>Manhattan</td>\n",
              "    </tr>\n",
              "    <tr>\n",
              "      <th>2</th>\n",
              "      <td>2019-03-27 17:53:01</td>\n",
              "      <td>2019-03-27 18:00:25</td>\n",
              "      <td>1</td>\n",
              "      <td>1.37</td>\n",
              "      <td>7.5</td>\n",
              "      <td>2.36</td>\n",
              "      <td>0.0</td>\n",
              "      <td>14.16</td>\n",
              "      <td>yellow</td>\n",
              "      <td>credit card</td>\n",
              "      <td>Alphabet City</td>\n",
              "      <td>West Village</td>\n",
              "      <td>Manhattan</td>\n",
              "      <td>Manhattan</td>\n",
              "    </tr>\n",
              "    <tr>\n",
              "      <th>3</th>\n",
              "      <td>2019-03-10 01:23:59</td>\n",
              "      <td>2019-03-10 01:49:51</td>\n",
              "      <td>1</td>\n",
              "      <td>7.70</td>\n",
              "      <td>27.0</td>\n",
              "      <td>6.15</td>\n",
              "      <td>0.0</td>\n",
              "      <td>36.95</td>\n",
              "      <td>yellow</td>\n",
              "      <td>credit card</td>\n",
              "      <td>Hudson Sq</td>\n",
              "      <td>Yorkville West</td>\n",
              "      <td>Manhattan</td>\n",
              "      <td>Manhattan</td>\n",
              "    </tr>\n",
              "    <tr>\n",
              "      <th>4</th>\n",
              "      <td>2019-03-30 13:27:42</td>\n",
              "      <td>2019-03-30 13:37:14</td>\n",
              "      <td>3</td>\n",
              "      <td>2.16</td>\n",
              "      <td>9.0</td>\n",
              "      <td>1.10</td>\n",
              "      <td>0.0</td>\n",
              "      <td>13.40</td>\n",
              "      <td>yellow</td>\n",
              "      <td>credit card</td>\n",
              "      <td>Midtown East</td>\n",
              "      <td>Yorkville West</td>\n",
              "      <td>Manhattan</td>\n",
              "      <td>Manhattan</td>\n",
              "    </tr>\n",
              "  </tbody>\n",
              "</table>\n",
              "</div>\n",
              "      <button class=\"colab-df-convert\" onclick=\"convertToInteractive('df-3d679310-d833-4c38-94ac-cef5e3e25234')\"\n",
              "              title=\"Convert this dataframe to an interactive table.\"\n",
              "              style=\"display:none;\">\n",
              "        \n",
              "  <svg xmlns=\"http://www.w3.org/2000/svg\" height=\"24px\"viewBox=\"0 0 24 24\"\n",
              "       width=\"24px\">\n",
              "    <path d=\"M0 0h24v24H0V0z\" fill=\"none\"/>\n",
              "    <path d=\"M18.56 5.44l.94 2.06.94-2.06 2.06-.94-2.06-.94-.94-2.06-.94 2.06-2.06.94zm-11 1L8.5 8.5l.94-2.06 2.06-.94-2.06-.94L8.5 2.5l-.94 2.06-2.06.94zm10 10l.94 2.06.94-2.06 2.06-.94-2.06-.94-.94-2.06-.94 2.06-2.06.94z\"/><path d=\"M17.41 7.96l-1.37-1.37c-.4-.4-.92-.59-1.43-.59-.52 0-1.04.2-1.43.59L10.3 9.45l-7.72 7.72c-.78.78-.78 2.05 0 2.83L4 21.41c.39.39.9.59 1.41.59.51 0 1.02-.2 1.41-.59l7.78-7.78 2.81-2.81c.8-.78.8-2.07 0-2.86zM5.41 20L4 18.59l7.72-7.72 1.47 1.35L5.41 20z\"/>\n",
              "  </svg>\n",
              "      </button>\n",
              "      \n",
              "  <style>\n",
              "    .colab-df-container {\n",
              "      display:flex;\n",
              "      flex-wrap:wrap;\n",
              "      gap: 12px;\n",
              "    }\n",
              "\n",
              "    .colab-df-convert {\n",
              "      background-color: #E8F0FE;\n",
              "      border: none;\n",
              "      border-radius: 50%;\n",
              "      cursor: pointer;\n",
              "      display: none;\n",
              "      fill: #1967D2;\n",
              "      height: 32px;\n",
              "      padding: 0 0 0 0;\n",
              "      width: 32px;\n",
              "    }\n",
              "\n",
              "    .colab-df-convert:hover {\n",
              "      background-color: #E2EBFA;\n",
              "      box-shadow: 0px 1px 2px rgba(60, 64, 67, 0.3), 0px 1px 3px 1px rgba(60, 64, 67, 0.15);\n",
              "      fill: #174EA6;\n",
              "    }\n",
              "\n",
              "    [theme=dark] .colab-df-convert {\n",
              "      background-color: #3B4455;\n",
              "      fill: #D2E3FC;\n",
              "    }\n",
              "\n",
              "    [theme=dark] .colab-df-convert:hover {\n",
              "      background-color: #434B5C;\n",
              "      box-shadow: 0px 1px 3px 1px rgba(0, 0, 0, 0.15);\n",
              "      filter: drop-shadow(0px 1px 2px rgba(0, 0, 0, 0.3));\n",
              "      fill: #FFFFFF;\n",
              "    }\n",
              "  </style>\n",
              "\n",
              "      <script>\n",
              "        const buttonEl =\n",
              "          document.querySelector('#df-3d679310-d833-4c38-94ac-cef5e3e25234 button.colab-df-convert');\n",
              "        buttonEl.style.display =\n",
              "          google.colab.kernel.accessAllowed ? 'block' : 'none';\n",
              "\n",
              "        async function convertToInteractive(key) {\n",
              "          const element = document.querySelector('#df-3d679310-d833-4c38-94ac-cef5e3e25234');\n",
              "          const dataTable =\n",
              "            await google.colab.kernel.invokeFunction('convertToInteractive',\n",
              "                                                     [key], {});\n",
              "          if (!dataTable) return;\n",
              "\n",
              "          const docLinkHtml = 'Like what you see? Visit the ' +\n",
              "            '<a target=\"_blank\" href=https://colab.research.google.com/notebooks/data_table.ipynb>data table notebook</a>'\n",
              "            + ' to learn more about interactive tables.';\n",
              "          element.innerHTML = '';\n",
              "          dataTable['output_type'] = 'display_data';\n",
              "          await google.colab.output.renderOutput(dataTable, element);\n",
              "          const docLink = document.createElement('div');\n",
              "          docLink.innerHTML = docLinkHtml;\n",
              "          element.appendChild(docLink);\n",
              "        }\n",
              "      </script>\n",
              "    </div>\n",
              "  </div>\n",
              "  "
            ]
          },
          "metadata": {},
          "execution_count": 5
        }
      ],
      "source": [
        "taxis.head()"
      ]
    },
    {
      "cell_type": "markdown",
      "id": "dd4fc143",
      "metadata": {
        "id": "dd4fc143"
      },
      "source": [
        "### Penguins"
      ]
    },
    {
      "cell_type": "code",
      "execution_count": 4,
      "id": "0212de12",
      "metadata": {
        "id": "0212de12"
      },
      "outputs": [],
      "source": [
        "penguins = sns.load_dataset('penguins')"
      ]
    },
    {
      "cell_type": "code",
      "execution_count": 5,
      "id": "3316d5d5",
      "metadata": {
        "id": "3316d5d5",
        "outputId": "5290c7e7-dacf-4719-bd9b-986827251fd7",
        "colab": {
          "base_uri": "https://localhost:8080/"
        }
      },
      "outputs": [
        {
          "output_type": "execute_result",
          "data": {
            "text/plain": [
              "(344, 7)"
            ]
          },
          "metadata": {},
          "execution_count": 5
        }
      ],
      "source": [
        "penguins.shape"
      ]
    },
    {
      "cell_type": "code",
      "execution_count": 6,
      "id": "3e1f5084",
      "metadata": {
        "id": "3e1f5084",
        "outputId": "25627d42-7515-4434-9a28-611aad7b9d2d",
        "colab": {
          "base_uri": "https://localhost:8080/"
        }
      },
      "outputs": [
        {
          "output_type": "stream",
          "name": "stdout",
          "text": [
            "<class 'pandas.core.frame.DataFrame'>\n",
            "RangeIndex: 344 entries, 0 to 343\n",
            "Data columns (total 7 columns):\n",
            " #   Column             Non-Null Count  Dtype  \n",
            "---  ------             --------------  -----  \n",
            " 0   species            344 non-null    object \n",
            " 1   island             344 non-null    object \n",
            " 2   bill_length_mm     342 non-null    float64\n",
            " 3   bill_depth_mm      342 non-null    float64\n",
            " 4   flipper_length_mm  342 non-null    float64\n",
            " 5   body_mass_g        342 non-null    float64\n",
            " 6   sex                333 non-null    object \n",
            "dtypes: float64(4), object(3)\n",
            "memory usage: 18.9+ KB\n"
          ]
        }
      ],
      "source": [
        "penguins.info()"
      ]
    },
    {
      "cell_type": "code",
      "execution_count": 7,
      "id": "ec420cc7",
      "metadata": {
        "id": "ec420cc7",
        "outputId": "a8bb8a70-0d90-4bd7-f8c5-fbd198a6f2f7",
        "colab": {
          "base_uri": "https://localhost:8080/",
          "height": 206
        }
      },
      "outputs": [
        {
          "output_type": "execute_result",
          "data": {
            "text/plain": [
              "  species     island  bill_length_mm  bill_depth_mm  flipper_length_mm  \\\n",
              "0  Adelie  Torgersen            39.1           18.7              181.0   \n",
              "1  Adelie  Torgersen            39.5           17.4              186.0   \n",
              "2  Adelie  Torgersen            40.3           18.0              195.0   \n",
              "3  Adelie  Torgersen             NaN            NaN                NaN   \n",
              "4  Adelie  Torgersen            36.7           19.3              193.0   \n",
              "\n",
              "   body_mass_g     sex  \n",
              "0       3750.0    Male  \n",
              "1       3800.0  Female  \n",
              "2       3250.0  Female  \n",
              "3          NaN     NaN  \n",
              "4       3450.0  Female  "
            ],
            "text/html": [
              "\n",
              "  <div id=\"df-458199f0-3f54-4e79-b4ed-9d0a2c0d371f\">\n",
              "    <div class=\"colab-df-container\">\n",
              "      <div>\n",
              "<style scoped>\n",
              "    .dataframe tbody tr th:only-of-type {\n",
              "        vertical-align: middle;\n",
              "    }\n",
              "\n",
              "    .dataframe tbody tr th {\n",
              "        vertical-align: top;\n",
              "    }\n",
              "\n",
              "    .dataframe thead th {\n",
              "        text-align: right;\n",
              "    }\n",
              "</style>\n",
              "<table border=\"1\" class=\"dataframe\">\n",
              "  <thead>\n",
              "    <tr style=\"text-align: right;\">\n",
              "      <th></th>\n",
              "      <th>species</th>\n",
              "      <th>island</th>\n",
              "      <th>bill_length_mm</th>\n",
              "      <th>bill_depth_mm</th>\n",
              "      <th>flipper_length_mm</th>\n",
              "      <th>body_mass_g</th>\n",
              "      <th>sex</th>\n",
              "    </tr>\n",
              "  </thead>\n",
              "  <tbody>\n",
              "    <tr>\n",
              "      <th>0</th>\n",
              "      <td>Adelie</td>\n",
              "      <td>Torgersen</td>\n",
              "      <td>39.1</td>\n",
              "      <td>18.7</td>\n",
              "      <td>181.0</td>\n",
              "      <td>3750.0</td>\n",
              "      <td>Male</td>\n",
              "    </tr>\n",
              "    <tr>\n",
              "      <th>1</th>\n",
              "      <td>Adelie</td>\n",
              "      <td>Torgersen</td>\n",
              "      <td>39.5</td>\n",
              "      <td>17.4</td>\n",
              "      <td>186.0</td>\n",
              "      <td>3800.0</td>\n",
              "      <td>Female</td>\n",
              "    </tr>\n",
              "    <tr>\n",
              "      <th>2</th>\n",
              "      <td>Adelie</td>\n",
              "      <td>Torgersen</td>\n",
              "      <td>40.3</td>\n",
              "      <td>18.0</td>\n",
              "      <td>195.0</td>\n",
              "      <td>3250.0</td>\n",
              "      <td>Female</td>\n",
              "    </tr>\n",
              "    <tr>\n",
              "      <th>3</th>\n",
              "      <td>Adelie</td>\n",
              "      <td>Torgersen</td>\n",
              "      <td>NaN</td>\n",
              "      <td>NaN</td>\n",
              "      <td>NaN</td>\n",
              "      <td>NaN</td>\n",
              "      <td>NaN</td>\n",
              "    </tr>\n",
              "    <tr>\n",
              "      <th>4</th>\n",
              "      <td>Adelie</td>\n",
              "      <td>Torgersen</td>\n",
              "      <td>36.7</td>\n",
              "      <td>19.3</td>\n",
              "      <td>193.0</td>\n",
              "      <td>3450.0</td>\n",
              "      <td>Female</td>\n",
              "    </tr>\n",
              "  </tbody>\n",
              "</table>\n",
              "</div>\n",
              "      <button class=\"colab-df-convert\" onclick=\"convertToInteractive('df-458199f0-3f54-4e79-b4ed-9d0a2c0d371f')\"\n",
              "              title=\"Convert this dataframe to an interactive table.\"\n",
              "              style=\"display:none;\">\n",
              "        \n",
              "  <svg xmlns=\"http://www.w3.org/2000/svg\" height=\"24px\"viewBox=\"0 0 24 24\"\n",
              "       width=\"24px\">\n",
              "    <path d=\"M0 0h24v24H0V0z\" fill=\"none\"/>\n",
              "    <path d=\"M18.56 5.44l.94 2.06.94-2.06 2.06-.94-2.06-.94-.94-2.06-.94 2.06-2.06.94zm-11 1L8.5 8.5l.94-2.06 2.06-.94-2.06-.94L8.5 2.5l-.94 2.06-2.06.94zm10 10l.94 2.06.94-2.06 2.06-.94-2.06-.94-.94-2.06-.94 2.06-2.06.94z\"/><path d=\"M17.41 7.96l-1.37-1.37c-.4-.4-.92-.59-1.43-.59-.52 0-1.04.2-1.43.59L10.3 9.45l-7.72 7.72c-.78.78-.78 2.05 0 2.83L4 21.41c.39.39.9.59 1.41.59.51 0 1.02-.2 1.41-.59l7.78-7.78 2.81-2.81c.8-.78.8-2.07 0-2.86zM5.41 20L4 18.59l7.72-7.72 1.47 1.35L5.41 20z\"/>\n",
              "  </svg>\n",
              "      </button>\n",
              "      \n",
              "  <style>\n",
              "    .colab-df-container {\n",
              "      display:flex;\n",
              "      flex-wrap:wrap;\n",
              "      gap: 12px;\n",
              "    }\n",
              "\n",
              "    .colab-df-convert {\n",
              "      background-color: #E8F0FE;\n",
              "      border: none;\n",
              "      border-radius: 50%;\n",
              "      cursor: pointer;\n",
              "      display: none;\n",
              "      fill: #1967D2;\n",
              "      height: 32px;\n",
              "      padding: 0 0 0 0;\n",
              "      width: 32px;\n",
              "    }\n",
              "\n",
              "    .colab-df-convert:hover {\n",
              "      background-color: #E2EBFA;\n",
              "      box-shadow: 0px 1px 2px rgba(60, 64, 67, 0.3), 0px 1px 3px 1px rgba(60, 64, 67, 0.15);\n",
              "      fill: #174EA6;\n",
              "    }\n",
              "\n",
              "    [theme=dark] .colab-df-convert {\n",
              "      background-color: #3B4455;\n",
              "      fill: #D2E3FC;\n",
              "    }\n",
              "\n",
              "    [theme=dark] .colab-df-convert:hover {\n",
              "      background-color: #434B5C;\n",
              "      box-shadow: 0px 1px 3px 1px rgba(0, 0, 0, 0.15);\n",
              "      filter: drop-shadow(0px 1px 2px rgba(0, 0, 0, 0.3));\n",
              "      fill: #FFFFFF;\n",
              "    }\n",
              "  </style>\n",
              "\n",
              "      <script>\n",
              "        const buttonEl =\n",
              "          document.querySelector('#df-458199f0-3f54-4e79-b4ed-9d0a2c0d371f button.colab-df-convert');\n",
              "        buttonEl.style.display =\n",
              "          google.colab.kernel.accessAllowed ? 'block' : 'none';\n",
              "\n",
              "        async function convertToInteractive(key) {\n",
              "          const element = document.querySelector('#df-458199f0-3f54-4e79-b4ed-9d0a2c0d371f');\n",
              "          const dataTable =\n",
              "            await google.colab.kernel.invokeFunction('convertToInteractive',\n",
              "                                                     [key], {});\n",
              "          if (!dataTable) return;\n",
              "\n",
              "          const docLinkHtml = 'Like what you see? Visit the ' +\n",
              "            '<a target=\"_blank\" href=https://colab.research.google.com/notebooks/data_table.ipynb>data table notebook</a>'\n",
              "            + ' to learn more about interactive tables.';\n",
              "          element.innerHTML = '';\n",
              "          dataTable['output_type'] = 'display_data';\n",
              "          await google.colab.output.renderOutput(dataTable, element);\n",
              "          const docLink = document.createElement('div');\n",
              "          docLink.innerHTML = docLinkHtml;\n",
              "          element.appendChild(docLink);\n",
              "        }\n",
              "      </script>\n",
              "    </div>\n",
              "  </div>\n",
              "  "
            ]
          },
          "metadata": {},
          "execution_count": 7
        }
      ],
      "source": [
        "penguins.head()"
      ]
    },
    {
      "cell_type": "code",
      "execution_count": 8,
      "id": "1eff9c5c",
      "metadata": {
        "id": "1eff9c5c",
        "outputId": "f0828dc7-c0ba-4f12-fceb-103e88cd8078",
        "colab": {
          "base_uri": "https://localhost:8080/"
        }
      },
      "outputs": [
        {
          "output_type": "execute_result",
          "data": {
            "text/plain": [
              "array(['Adelie', 'Chinstrap', 'Gentoo'], dtype=object)"
            ]
          },
          "metadata": {},
          "execution_count": 8
        }
      ],
      "source": [
        "penguins.species.unique()"
      ]
    },
    {
      "cell_type": "markdown",
      "id": "546727b9",
      "metadata": {
        "id": "546727b9"
      },
      "source": [
        "## Visualization"
      ]
    },
    {
      "cell_type": "markdown",
      "id": "fb67c5da",
      "metadata": {
        "id": "fb67c5da"
      },
      "source": [
        "### Task: Create at least 2 visualizations using categorical variables in Taxi data"
      ]
    },
    {
      "cell_type": "code",
      "execution_count": null,
      "id": "56423b13",
      "metadata": {
        "id": "56423b13",
        "colab": {
          "base_uri": "https://localhost:8080/"
        },
        "outputId": "c2afebc2-b6b4-4b0e-8467-a0c90ca626b3"
      },
      "outputs": [
        {
          "output_type": "execute_result",
          "data": {
            "text/plain": [
              "pickup             6414\n",
              "dropoff            6425\n",
              "passengers            7\n",
              "distance           1079\n",
              "fare                220\n",
              "tip                 489\n",
              "tolls                16\n",
              "total               898\n",
              "color                 2\n",
              "payment               2\n",
              "pickup_zone         194\n",
              "dropoff_zone        203\n",
              "pickup_borough        4\n",
              "dropoff_borough       5\n",
              "dtype: int64"
            ]
          },
          "metadata": {},
          "execution_count": 11
        }
      ],
      "source": [
        "taxis.nunique()"
      ]
    },
    {
      "cell_type": "code",
      "source": [
        "taxis = taxis.dropna().reset_index(drop=True)\n",
        "taxis"
      ],
      "metadata": {
        "colab": {
          "base_uri": "https://localhost:8080/",
          "height": 835
        },
        "id": "i1U73r_BE3X_",
        "outputId": "813f587a-f624-4459-a0ec-24a338ae1922"
      },
      "id": "i1U73r_BE3X_",
      "execution_count": null,
      "outputs": [
        {
          "output_type": "execute_result",
          "data": {
            "text/plain": [
              "                   pickup              dropoff  passengers  distance  fare  \\\n",
              "0     2019-03-23 20:21:09  2019-03-23 20:27:24           1      1.60   7.0   \n",
              "1     2019-03-04 16:11:55  2019-03-04 16:19:00           1      0.79   5.0   \n",
              "2     2019-03-27 17:53:01  2019-03-27 18:00:25           1      1.37   7.5   \n",
              "3     2019-03-10 01:23:59  2019-03-10 01:49:51           1      7.70  27.0   \n",
              "4     2019-03-30 13:27:42  2019-03-30 13:37:14           3      2.16   9.0   \n",
              "...                   ...                  ...         ...       ...   ...   \n",
              "6336  2019-03-31 09:51:53  2019-03-31 09:55:27           1      0.75   4.5   \n",
              "6337  2019-03-31 17:38:00  2019-03-31 18:34:23           1     18.74  58.0   \n",
              "6338  2019-03-23 22:55:18  2019-03-23 23:14:25           1      4.14  16.0   \n",
              "6339  2019-03-04 10:09:25  2019-03-04 10:14:29           1      1.12   6.0   \n",
              "6340  2019-03-13 19:31:22  2019-03-13 19:48:02           1      3.85  15.0   \n",
              "\n",
              "       tip  tolls  total   color      payment            pickup_zone  \\\n",
              "0     2.15    0.0  12.95  yellow  credit card        Lenox Hill West   \n",
              "1     0.00    0.0   9.30  yellow         cash  Upper West Side South   \n",
              "2     2.36    0.0  14.16  yellow  credit card          Alphabet City   \n",
              "3     6.15    0.0  36.95  yellow  credit card              Hudson Sq   \n",
              "4     1.10    0.0  13.40  yellow  credit card           Midtown East   \n",
              "...    ...    ...    ...     ...          ...                    ...   \n",
              "6336  1.06    0.0   6.36   green  credit card      East Harlem North   \n",
              "6337  0.00    0.0  58.80   green  credit card                Jamaica   \n",
              "6338  0.00    0.0  17.30   green         cash    Crown Heights North   \n",
              "6339  0.00    0.0   6.80   green  credit card          East New York   \n",
              "6340  3.36    0.0  20.16   green  credit card            Boerum Hill   \n",
              "\n",
              "                          dropoff_zone pickup_borough dropoff_borough  \n",
              "0                  UN/Turtle Bay South      Manhattan       Manhattan  \n",
              "1                Upper West Side South      Manhattan       Manhattan  \n",
              "2                         West Village      Manhattan       Manhattan  \n",
              "3                       Yorkville West      Manhattan       Manhattan  \n",
              "4                       Yorkville West      Manhattan       Manhattan  \n",
              "...                                ...            ...             ...  \n",
              "6336              Central Harlem North      Manhattan       Manhattan  \n",
              "6337  East Concourse/Concourse Village         Queens           Bronx  \n",
              "6338                    Bushwick North       Brooklyn        Brooklyn  \n",
              "6339      East Flatbush/Remsen Village       Brooklyn        Brooklyn  \n",
              "6340                   Windsor Terrace       Brooklyn        Brooklyn  \n",
              "\n",
              "[6341 rows x 14 columns]"
            ],
            "text/html": [
              "\n",
              "  <div id=\"df-0ec7e1e7-2584-475e-90a3-51c0a22cfd45\">\n",
              "    <div class=\"colab-df-container\">\n",
              "      <div>\n",
              "<style scoped>\n",
              "    .dataframe tbody tr th:only-of-type {\n",
              "        vertical-align: middle;\n",
              "    }\n",
              "\n",
              "    .dataframe tbody tr th {\n",
              "        vertical-align: top;\n",
              "    }\n",
              "\n",
              "    .dataframe thead th {\n",
              "        text-align: right;\n",
              "    }\n",
              "</style>\n",
              "<table border=\"1\" class=\"dataframe\">\n",
              "  <thead>\n",
              "    <tr style=\"text-align: right;\">\n",
              "      <th></th>\n",
              "      <th>pickup</th>\n",
              "      <th>dropoff</th>\n",
              "      <th>passengers</th>\n",
              "      <th>distance</th>\n",
              "      <th>fare</th>\n",
              "      <th>tip</th>\n",
              "      <th>tolls</th>\n",
              "      <th>total</th>\n",
              "      <th>color</th>\n",
              "      <th>payment</th>\n",
              "      <th>pickup_zone</th>\n",
              "      <th>dropoff_zone</th>\n",
              "      <th>pickup_borough</th>\n",
              "      <th>dropoff_borough</th>\n",
              "    </tr>\n",
              "  </thead>\n",
              "  <tbody>\n",
              "    <tr>\n",
              "      <th>0</th>\n",
              "      <td>2019-03-23 20:21:09</td>\n",
              "      <td>2019-03-23 20:27:24</td>\n",
              "      <td>1</td>\n",
              "      <td>1.60</td>\n",
              "      <td>7.0</td>\n",
              "      <td>2.15</td>\n",
              "      <td>0.0</td>\n",
              "      <td>12.95</td>\n",
              "      <td>yellow</td>\n",
              "      <td>credit card</td>\n",
              "      <td>Lenox Hill West</td>\n",
              "      <td>UN/Turtle Bay South</td>\n",
              "      <td>Manhattan</td>\n",
              "      <td>Manhattan</td>\n",
              "    </tr>\n",
              "    <tr>\n",
              "      <th>1</th>\n",
              "      <td>2019-03-04 16:11:55</td>\n",
              "      <td>2019-03-04 16:19:00</td>\n",
              "      <td>1</td>\n",
              "      <td>0.79</td>\n",
              "      <td>5.0</td>\n",
              "      <td>0.00</td>\n",
              "      <td>0.0</td>\n",
              "      <td>9.30</td>\n",
              "      <td>yellow</td>\n",
              "      <td>cash</td>\n",
              "      <td>Upper West Side South</td>\n",
              "      <td>Upper West Side South</td>\n",
              "      <td>Manhattan</td>\n",
              "      <td>Manhattan</td>\n",
              "    </tr>\n",
              "    <tr>\n",
              "      <th>2</th>\n",
              "      <td>2019-03-27 17:53:01</td>\n",
              "      <td>2019-03-27 18:00:25</td>\n",
              "      <td>1</td>\n",
              "      <td>1.37</td>\n",
              "      <td>7.5</td>\n",
              "      <td>2.36</td>\n",
              "      <td>0.0</td>\n",
              "      <td>14.16</td>\n",
              "      <td>yellow</td>\n",
              "      <td>credit card</td>\n",
              "      <td>Alphabet City</td>\n",
              "      <td>West Village</td>\n",
              "      <td>Manhattan</td>\n",
              "      <td>Manhattan</td>\n",
              "    </tr>\n",
              "    <tr>\n",
              "      <th>3</th>\n",
              "      <td>2019-03-10 01:23:59</td>\n",
              "      <td>2019-03-10 01:49:51</td>\n",
              "      <td>1</td>\n",
              "      <td>7.70</td>\n",
              "      <td>27.0</td>\n",
              "      <td>6.15</td>\n",
              "      <td>0.0</td>\n",
              "      <td>36.95</td>\n",
              "      <td>yellow</td>\n",
              "      <td>credit card</td>\n",
              "      <td>Hudson Sq</td>\n",
              "      <td>Yorkville West</td>\n",
              "      <td>Manhattan</td>\n",
              "      <td>Manhattan</td>\n",
              "    </tr>\n",
              "    <tr>\n",
              "      <th>4</th>\n",
              "      <td>2019-03-30 13:27:42</td>\n",
              "      <td>2019-03-30 13:37:14</td>\n",
              "      <td>3</td>\n",
              "      <td>2.16</td>\n",
              "      <td>9.0</td>\n",
              "      <td>1.10</td>\n",
              "      <td>0.0</td>\n",
              "      <td>13.40</td>\n",
              "      <td>yellow</td>\n",
              "      <td>credit card</td>\n",
              "      <td>Midtown East</td>\n",
              "      <td>Yorkville West</td>\n",
              "      <td>Manhattan</td>\n",
              "      <td>Manhattan</td>\n",
              "    </tr>\n",
              "    <tr>\n",
              "      <th>...</th>\n",
              "      <td>...</td>\n",
              "      <td>...</td>\n",
              "      <td>...</td>\n",
              "      <td>...</td>\n",
              "      <td>...</td>\n",
              "      <td>...</td>\n",
              "      <td>...</td>\n",
              "      <td>...</td>\n",
              "      <td>...</td>\n",
              "      <td>...</td>\n",
              "      <td>...</td>\n",
              "      <td>...</td>\n",
              "      <td>...</td>\n",
              "      <td>...</td>\n",
              "    </tr>\n",
              "    <tr>\n",
              "      <th>6336</th>\n",
              "      <td>2019-03-31 09:51:53</td>\n",
              "      <td>2019-03-31 09:55:27</td>\n",
              "      <td>1</td>\n",
              "      <td>0.75</td>\n",
              "      <td>4.5</td>\n",
              "      <td>1.06</td>\n",
              "      <td>0.0</td>\n",
              "      <td>6.36</td>\n",
              "      <td>green</td>\n",
              "      <td>credit card</td>\n",
              "      <td>East Harlem North</td>\n",
              "      <td>Central Harlem North</td>\n",
              "      <td>Manhattan</td>\n",
              "      <td>Manhattan</td>\n",
              "    </tr>\n",
              "    <tr>\n",
              "      <th>6337</th>\n",
              "      <td>2019-03-31 17:38:00</td>\n",
              "      <td>2019-03-31 18:34:23</td>\n",
              "      <td>1</td>\n",
              "      <td>18.74</td>\n",
              "      <td>58.0</td>\n",
              "      <td>0.00</td>\n",
              "      <td>0.0</td>\n",
              "      <td>58.80</td>\n",
              "      <td>green</td>\n",
              "      <td>credit card</td>\n",
              "      <td>Jamaica</td>\n",
              "      <td>East Concourse/Concourse Village</td>\n",
              "      <td>Queens</td>\n",
              "      <td>Bronx</td>\n",
              "    </tr>\n",
              "    <tr>\n",
              "      <th>6338</th>\n",
              "      <td>2019-03-23 22:55:18</td>\n",
              "      <td>2019-03-23 23:14:25</td>\n",
              "      <td>1</td>\n",
              "      <td>4.14</td>\n",
              "      <td>16.0</td>\n",
              "      <td>0.00</td>\n",
              "      <td>0.0</td>\n",
              "      <td>17.30</td>\n",
              "      <td>green</td>\n",
              "      <td>cash</td>\n",
              "      <td>Crown Heights North</td>\n",
              "      <td>Bushwick North</td>\n",
              "      <td>Brooklyn</td>\n",
              "      <td>Brooklyn</td>\n",
              "    </tr>\n",
              "    <tr>\n",
              "      <th>6339</th>\n",
              "      <td>2019-03-04 10:09:25</td>\n",
              "      <td>2019-03-04 10:14:29</td>\n",
              "      <td>1</td>\n",
              "      <td>1.12</td>\n",
              "      <td>6.0</td>\n",
              "      <td>0.00</td>\n",
              "      <td>0.0</td>\n",
              "      <td>6.80</td>\n",
              "      <td>green</td>\n",
              "      <td>credit card</td>\n",
              "      <td>East New York</td>\n",
              "      <td>East Flatbush/Remsen Village</td>\n",
              "      <td>Brooklyn</td>\n",
              "      <td>Brooklyn</td>\n",
              "    </tr>\n",
              "    <tr>\n",
              "      <th>6340</th>\n",
              "      <td>2019-03-13 19:31:22</td>\n",
              "      <td>2019-03-13 19:48:02</td>\n",
              "      <td>1</td>\n",
              "      <td>3.85</td>\n",
              "      <td>15.0</td>\n",
              "      <td>3.36</td>\n",
              "      <td>0.0</td>\n",
              "      <td>20.16</td>\n",
              "      <td>green</td>\n",
              "      <td>credit card</td>\n",
              "      <td>Boerum Hill</td>\n",
              "      <td>Windsor Terrace</td>\n",
              "      <td>Brooklyn</td>\n",
              "      <td>Brooklyn</td>\n",
              "    </tr>\n",
              "  </tbody>\n",
              "</table>\n",
              "<p>6341 rows × 14 columns</p>\n",
              "</div>\n",
              "      <button class=\"colab-df-convert\" onclick=\"convertToInteractive('df-0ec7e1e7-2584-475e-90a3-51c0a22cfd45')\"\n",
              "              title=\"Convert this dataframe to an interactive table.\"\n",
              "              style=\"display:none;\">\n",
              "        \n",
              "  <svg xmlns=\"http://www.w3.org/2000/svg\" height=\"24px\"viewBox=\"0 0 24 24\"\n",
              "       width=\"24px\">\n",
              "    <path d=\"M0 0h24v24H0V0z\" fill=\"none\"/>\n",
              "    <path d=\"M18.56 5.44l.94 2.06.94-2.06 2.06-.94-2.06-.94-.94-2.06-.94 2.06-2.06.94zm-11 1L8.5 8.5l.94-2.06 2.06-.94-2.06-.94L8.5 2.5l-.94 2.06-2.06.94zm10 10l.94 2.06.94-2.06 2.06-.94-2.06-.94-.94-2.06-.94 2.06-2.06.94z\"/><path d=\"M17.41 7.96l-1.37-1.37c-.4-.4-.92-.59-1.43-.59-.52 0-1.04.2-1.43.59L10.3 9.45l-7.72 7.72c-.78.78-.78 2.05 0 2.83L4 21.41c.39.39.9.59 1.41.59.51 0 1.02-.2 1.41-.59l7.78-7.78 2.81-2.81c.8-.78.8-2.07 0-2.86zM5.41 20L4 18.59l7.72-7.72 1.47 1.35L5.41 20z\"/>\n",
              "  </svg>\n",
              "      </button>\n",
              "      \n",
              "  <style>\n",
              "    .colab-df-container {\n",
              "      display:flex;\n",
              "      flex-wrap:wrap;\n",
              "      gap: 12px;\n",
              "    }\n",
              "\n",
              "    .colab-df-convert {\n",
              "      background-color: #E8F0FE;\n",
              "      border: none;\n",
              "      border-radius: 50%;\n",
              "      cursor: pointer;\n",
              "      display: none;\n",
              "      fill: #1967D2;\n",
              "      height: 32px;\n",
              "      padding: 0 0 0 0;\n",
              "      width: 32px;\n",
              "    }\n",
              "\n",
              "    .colab-df-convert:hover {\n",
              "      background-color: #E2EBFA;\n",
              "      box-shadow: 0px 1px 2px rgba(60, 64, 67, 0.3), 0px 1px 3px 1px rgba(60, 64, 67, 0.15);\n",
              "      fill: #174EA6;\n",
              "    }\n",
              "\n",
              "    [theme=dark] .colab-df-convert {\n",
              "      background-color: #3B4455;\n",
              "      fill: #D2E3FC;\n",
              "    }\n",
              "\n",
              "    [theme=dark] .colab-df-convert:hover {\n",
              "      background-color: #434B5C;\n",
              "      box-shadow: 0px 1px 3px 1px rgba(0, 0, 0, 0.15);\n",
              "      filter: drop-shadow(0px 1px 2px rgba(0, 0, 0, 0.3));\n",
              "      fill: #FFFFFF;\n",
              "    }\n",
              "  </style>\n",
              "\n",
              "      <script>\n",
              "        const buttonEl =\n",
              "          document.querySelector('#df-0ec7e1e7-2584-475e-90a3-51c0a22cfd45 button.colab-df-convert');\n",
              "        buttonEl.style.display =\n",
              "          google.colab.kernel.accessAllowed ? 'block' : 'none';\n",
              "\n",
              "        async function convertToInteractive(key) {\n",
              "          const element = document.querySelector('#df-0ec7e1e7-2584-475e-90a3-51c0a22cfd45');\n",
              "          const dataTable =\n",
              "            await google.colab.kernel.invokeFunction('convertToInteractive',\n",
              "                                                     [key], {});\n",
              "          if (!dataTable) return;\n",
              "\n",
              "          const docLinkHtml = 'Like what you see? Visit the ' +\n",
              "            '<a target=\"_blank\" href=https://colab.research.google.com/notebooks/data_table.ipynb>data table notebook</a>'\n",
              "            + ' to learn more about interactive tables.';\n",
              "          element.innerHTML = '';\n",
              "          dataTable['output_type'] = 'display_data';\n",
              "          await google.colab.output.renderOutput(dataTable, element);\n",
              "          const docLink = document.createElement('div');\n",
              "          docLink.innerHTML = docLinkHtml;\n",
              "          element.appendChild(docLink);\n",
              "        }\n",
              "      </script>\n",
              "    </div>\n",
              "  </div>\n",
              "  "
            ]
          },
          "metadata": {},
          "execution_count": 17
        }
      ]
    },
    {
      "cell_type": "code",
      "execution_count": null,
      "id": "88631e2c",
      "metadata": {
        "id": "88631e2c",
        "colab": {
          "base_uri": "https://localhost:8080/"
        },
        "outputId": "9b855b3c-588f-480d-8793-a6ca6f79fd0e"
      },
      "outputs": [
        {
          "output_type": "execute_result",
          "data": {
            "text/plain": [
              "yellow    5373\n",
              "green      968\n",
              "Name: color, dtype: int64"
            ]
          },
          "metadata": {},
          "execution_count": 24
        }
      ],
      "source": [
        "color_counts = taxis.color.value_counts()\n",
        "color_counts"
      ]
    },
    {
      "cell_type": "code",
      "source": [
        "color_counts.plot(kind='pie', title = 'Pie Chart')\n",
        "plt.show()"
      ],
      "metadata": {
        "colab": {
          "base_uri": "https://localhost:8080/",
          "height": 264
        },
        "id": "5hRSKbUqGHLF",
        "outputId": "23b083ff-2a1b-435f-8eb4-b8bedc92df65"
      },
      "id": "5hRSKbUqGHLF",
      "execution_count": null,
      "outputs": [
        {
          "output_type": "display_data",
          "data": {
            "text/plain": [
              "<Figure size 432x288 with 1 Axes>"
            ],
            "image/png": "[encoded data removed]"
          },
          "metadata": {}
        }
      ]
    },
    {
      "cell_type": "code",
      "source": [
        "payment_counts = taxis.payment.value_counts()\n",
        "payment_counts"
      ],
      "metadata": {
        "colab": {
          "base_uri": "https://localhost:8080/"
        },
        "id": "Fyfu2AsqGBAk",
        "outputId": "91ccafd8-556f-4bb9-924f-db1666f5b7c2"
      },
      "id": "Fyfu2AsqGBAk",
      "execution_count": null,
      "outputs": [
        {
          "output_type": "execute_result",
          "data": {
            "text/plain": [
              "credit card    4546\n",
              "cash           1795\n",
              "Name: payment, dtype: int64"
            ]
          },
          "metadata": {},
          "execution_count": 25
        }
      ]
    },
    {
      "cell_type": "code",
      "source": [
        "payment_counts.plot(kind='pie', title = 'Pie Chart')\n",
        "plt.show()"
      ],
      "metadata": {
        "colab": {
          "base_uri": "https://localhost:8080/",
          "height": 264
        },
        "id": "CnOUV9xoGSm6",
        "outputId": "cfedbd3b-339d-4478-d2f9-9affee143acd"
      },
      "id": "CnOUV9xoGSm6",
      "execution_count": null,
      "outputs": [
        {
          "output_type": "display_data",
          "data": {
            "text/plain": [
              "<Figure size 432x288 with 1 Axes>"
            ],
            "image/png": "[encoded data removed]"
          },
          "metadata": {}
        }
      ]
    },
    {
      "cell_type": "markdown",
      "id": "2ad6296b",
      "metadata": {
        "id": "2ad6296b"
      },
      "source": [
        "### Task: Create at least 2 visualizations using continuous variables in Taxi data"
      ]
    },
    {
      "cell_type": "code",
      "execution_count": null,
      "id": "4b55dce6",
      "metadata": {
        "id": "4b55dce6",
        "colab": {
          "base_uri": "https://localhost:8080/",
          "height": 283
        },
        "outputId": "f7f1792c-d59c-47fe-e39d-8b2673f10458"
      },
      "outputs": [
        {
          "output_type": "execute_result",
          "data": {
            "text/plain": [
              "<matplotlib.axes._subplots.AxesSubplot at 0x7fa1d6f72a90>"
            ]
          },
          "metadata": {},
          "execution_count": 28
        },
        {
          "output_type": "display_data",
          "data": {
            "text/plain": [
              "<Figure size 432x288 with 1 Axes>"
            ],
            "image/png": "[encoded data removed]"
          },
          "metadata": {
            "needs_background": "light"
          }
        }
      ],
      "source": [
        "taxis.total.hist()"
      ]
    },
    {
      "cell_type": "code",
      "source": [
        "sns.countplot(x = 'total', data = taxis)\n",
        "plt.show()"
      ],
      "metadata": {
        "colab": {
          "base_uri": "https://localhost:8080/",
          "height": 279
        },
        "id": "5ovr5bJ1Gsm2",
        "outputId": "c1545f57-0b9d-478e-f0f4-a53f19bbbf78"
      },
      "id": "5ovr5bJ1Gsm2",
      "execution_count": null,
      "outputs": [
        {
          "output_type": "display_data",
          "data": {
            "text/plain": [
              "<Figure size 432x288 with 1 Axes>"
            ],
            "image/png": "[encoded data removed]"
          },
          "metadata": {
            "needs_background": "light"
          }
        }
      ]
    },
    {
      "cell_type": "code",
      "execution_count": null,
      "id": "1912f59b",
      "metadata": {
        "id": "1912f59b",
        "colab": {
          "base_uri": "https://localhost:8080/",
          "height": 283
        },
        "outputId": "c5cf4d6a-9510-471d-cc8a-72ed13405ccc"
      },
      "outputs": [
        {
          "output_type": "execute_result",
          "data": {
            "text/plain": [
              "<matplotlib.axes._subplots.AxesSubplot at 0x7fa1d6ad1790>"
            ]
          },
          "metadata": {},
          "execution_count": 30
        },
        {
          "output_type": "display_data",
          "data": {
            "text/plain": [
              "<Figure size 432x288 with 1 Axes>"
            ],
            "image/png": "[encoded data removed]"
          },
          "metadata": {
            "needs_background": "light"
          }
        }
      ],
      "source": [
        "taxis.distance.hist()"
      ]
    },
    {
      "cell_type": "code",
      "source": [
        "sns.countplot(x = 'distance', data = taxis)\n",
        "plt.show()"
      ],
      "metadata": {
        "colab": {
          "base_uri": "https://localhost:8080/",
          "height": 279
        },
        "id": "n2QoFlgdGvE3",
        "outputId": "3ad2f646-f24c-4eeb-e339-99d672c14cd7"
      },
      "id": "n2QoFlgdGvE3",
      "execution_count": null,
      "outputs": [
        {
          "output_type": "display_data",
          "data": {
            "text/plain": [
              "<Figure size 432x288 with 1 Axes>"
            ],
            "image/png": "[encoded data removed]"
          },
          "metadata": {
            "needs_background": "light"
          }
        }
      ]
    },
    {
      "cell_type": "markdown",
      "id": "4d3213c0",
      "metadata": {
        "id": "4d3213c0"
      },
      "source": [
        "## Clustering"
      ]
    },
    {
      "cell_type": "markdown",
      "id": "66aea5d4",
      "metadata": {
        "id": "66aea5d4"
      },
      "source": [
        "### Task: Use K-Means Algorithm in penguins dataset to predict species"
      ]
    },
    {
      "cell_type": "code",
      "source": [
        "penguins.nunique()"
      ],
      "metadata": {
        "colab": {
          "base_uri": "https://localhost:8080/"
        },
        "id": "TDb_SA55H0Lo",
        "outputId": "71e82b0c-b199-4cb0-ccd1-8f43d1361ffb"
      },
      "id": "TDb_SA55H0Lo",
      "execution_count": 9,
      "outputs": [
        {
          "output_type": "execute_result",
          "data": {
            "text/plain": [
              "species                3\n",
              "island                 3\n",
              "bill_length_mm       164\n",
              "bill_depth_mm         80\n",
              "flipper_length_mm     55\n",
              "body_mass_g           94\n",
              "sex                    2\n",
              "dtype: int64"
            ]
          },
          "metadata": {},
          "execution_count": 9
        }
      ]
    },
    {
      "cell_type": "code",
      "execution_count": 10,
      "id": "546e9aa0",
      "metadata": {
        "id": "546e9aa0",
        "colab": {
          "base_uri": "https://localhost:8080/"
        },
        "outputId": "6272d88d-64a6-48a4-fb9f-49b7cd296355"
      },
      "outputs": [
        {
          "output_type": "stream",
          "name": "stdout",
          "text": [
            "<class 'pandas.core.frame.DataFrame'>\n",
            "RangeIndex: 344 entries, 0 to 343\n",
            "Data columns (total 7 columns):\n",
            " #   Column             Non-Null Count  Dtype  \n",
            "---  ------             --------------  -----  \n",
            " 0   species            344 non-null    object \n",
            " 1   island             344 non-null    object \n",
            " 2   bill_length_mm     342 non-null    float64\n",
            " 3   bill_depth_mm      342 non-null    float64\n",
            " 4   flipper_length_mm  342 non-null    float64\n",
            " 5   body_mass_g        342 non-null    float64\n",
            " 6   sex                333 non-null    object \n",
            "dtypes: float64(4), object(3)\n",
            "memory usage: 18.9+ KB\n"
          ]
        }
      ],
      "source": [
        "penguins.info()"
      ]
    },
    {
      "cell_type": "code",
      "execution_count": 15,
      "id": "12c41e71",
      "metadata": {
        "id": "12c41e71",
        "colab": {
          "base_uri": "https://localhost:8080/",
          "height": 424
        },
        "outputId": "5a6cad8b-e2b1-4bf5-db62-f73280f1112f"
      },
      "outputs": [
        {
          "output_type": "execute_result",
          "data": {
            "text/plain": [
              "    species     island  bill_length_mm  bill_depth_mm  flipper_length_mm  \\\n",
              "0    Adelie  Torgersen            39.1           18.7              181.0   \n",
              "1    Adelie  Torgersen            39.5           17.4              186.0   \n",
              "2    Adelie  Torgersen            40.3           18.0              195.0   \n",
              "3    Adelie  Torgersen            36.7           19.3              193.0   \n",
              "4    Adelie  Torgersen            39.3           20.6              190.0   \n",
              "..      ...        ...             ...            ...                ...   \n",
              "328  Gentoo     Biscoe            47.2           13.7              214.0   \n",
              "329  Gentoo     Biscoe            46.8           14.3              215.0   \n",
              "330  Gentoo     Biscoe            50.4           15.7              222.0   \n",
              "331  Gentoo     Biscoe            45.2           14.8              212.0   \n",
              "332  Gentoo     Biscoe            49.9           16.1              213.0   \n",
              "\n",
              "     body_mass_g     sex  \n",
              "0         3750.0    Male  \n",
              "1         3800.0  Female  \n",
              "2         3250.0  Female  \n",
              "3         3450.0  Female  \n",
              "4         3650.0    Male  \n",
              "..           ...     ...  \n",
              "328       4925.0  Female  \n",
              "329       4850.0  Female  \n",
              "330       5750.0    Male  \n",
              "331       5200.0  Female  \n",
              "332       5400.0    Male  \n",
              "\n",
              "[333 rows x 7 columns]"
            ],
            "text/html": [
              "\n",
              "  <div id=\"df-c7566f4b-67ee-43da-9f69-27e6f0cac10f\">\n",
              "    <div class=\"colab-df-container\">\n",
              "      <div>\n",
              "<style scoped>\n",
              "    .dataframe tbody tr th:only-of-type {\n",
              "        vertical-align: middle;\n",
              "    }\n",
              "\n",
              "    .dataframe tbody tr th {\n",
              "        vertical-align: top;\n",
              "    }\n",
              "\n",
              "    .dataframe thead th {\n",
              "        text-align: right;\n",
              "    }\n",
              "</style>\n",
              "<table border=\"1\" class=\"dataframe\">\n",
              "  <thead>\n",
              "    <tr style=\"text-align: right;\">\n",
              "      <th></th>\n",
              "      <th>species</th>\n",
              "      <th>island</th>\n",
              "      <th>bill_length_mm</th>\n",
              "      <th>bill_depth_mm</th>\n",
              "      <th>flipper_length_mm</th>\n",
              "      <th>body_mass_g</th>\n",
              "      <th>sex</th>\n",
              "    </tr>\n",
              "  </thead>\n",
              "  <tbody>\n",
              "    <tr>\n",
              "      <th>0</th>\n",
              "      <td>Adelie</td>\n",
              "      <td>Torgersen</td>\n",
              "      <td>39.1</td>\n",
              "      <td>18.7</td>\n",
              "      <td>181.0</td>\n",
              "      <td>3750.0</td>\n",
              "      <td>Male</td>\n",
              "    </tr>\n",
              "    <tr>\n",
              "      <th>1</th>\n",
              "      <td>Adelie</td>\n",
              "      <td>Torgersen</td>\n",
              "      <td>39.5</td>\n",
              "      <td>17.4</td>\n",
              "      <td>186.0</td>\n",
              "      <td>3800.0</td>\n",
              "      <td>Female</td>\n",
              "    </tr>\n",
              "    <tr>\n",
              "      <th>2</th>\n",
              "      <td>Adelie</td>\n",
              "      <td>Torgersen</td>\n",
              "      <td>40.3</td>\n",
              "      <td>18.0</td>\n",
              "      <td>195.0</td>\n",
              "      <td>3250.0</td>\n",
              "      <td>Female</td>\n",
              "    </tr>\n",
              "    <tr>\n",
              "      <th>3</th>\n",
              "      <td>Adelie</td>\n",
              "      <td>Torgersen</td>\n",
              "      <td>36.7</td>\n",
              "      <td>19.3</td>\n",
              "      <td>193.0</td>\n",
              "      <td>3450.0</td>\n",
              "      <td>Female</td>\n",
              "    </tr>\n",
              "    <tr>\n",
              "      <th>4</th>\n",
              "      <td>Adelie</td>\n",
              "      <td>Torgersen</td>\n",
              "      <td>39.3</td>\n",
              "      <td>20.6</td>\n",
              "      <td>190.0</td>\n",
              "      <td>3650.0</td>\n",
              "      <td>Male</td>\n",
              "    </tr>\n",
              "    <tr>\n",
              "      <th>...</th>\n",
              "      <td>...</td>\n",
              "      <td>...</td>\n",
              "      <td>...</td>\n",
              "      <td>...</td>\n",
              "      <td>...</td>\n",
              "      <td>...</td>\n",
              "      <td>...</td>\n",
              "    </tr>\n",
              "    <tr>\n",
              "      <th>328</th>\n",
              "      <td>Gentoo</td>\n",
              "      <td>Biscoe</td>\n",
              "      <td>47.2</td>\n",
              "      <td>13.7</td>\n",
              "      <td>214.0</td>\n",
              "      <td>4925.0</td>\n",
              "      <td>Female</td>\n",
              "    </tr>\n",
              "    <tr>\n",
              "      <th>329</th>\n",
              "      <td>Gentoo</td>\n",
              "      <td>Biscoe</td>\n",
              "      <td>46.8</td>\n",
              "      <td>14.3</td>\n",
              "      <td>215.0</td>\n",
              "      <td>4850.0</td>\n",
              "      <td>Female</td>\n",
              "    </tr>\n",
              "    <tr>\n",
              "      <th>330</th>\n",
              "      <td>Gentoo</td>\n",
              "      <td>Biscoe</td>\n",
              "      <td>50.4</td>\n",
              "      <td>15.7</td>\n",
              "      <td>222.0</td>\n",
              "      <td>5750.0</td>\n",
              "      <td>Male</td>\n",
              "    </tr>\n",
              "    <tr>\n",
              "      <th>331</th>\n",
              "      <td>Gentoo</td>\n",
              "      <td>Biscoe</td>\n",
              "      <td>45.2</td>\n",
              "      <td>14.8</td>\n",
              "      <td>212.0</td>\n",
              "      <td>5200.0</td>\n",
              "      <td>Female</td>\n",
              "    </tr>\n",
              "    <tr>\n",
              "      <th>332</th>\n",
              "      <td>Gentoo</td>\n",
              "      <td>Biscoe</td>\n",
              "      <td>49.9</td>\n",
              "      <td>16.1</td>\n",
              "      <td>213.0</td>\n",
              "      <td>5400.0</td>\n",
              "      <td>Male</td>\n",
              "    </tr>\n",
              "  </tbody>\n",
              "</table>\n",
              "<p>333 rows × 7 columns</p>\n",
              "</div>\n",
              "      <button class=\"colab-df-convert\" onclick=\"convertToInteractive('df-c7566f4b-67ee-43da-9f69-27e6f0cac10f')\"\n",
              "              title=\"Convert this dataframe to an interactive table.\"\n",
              "              style=\"display:none;\">\n",
              "        \n",
              "  <svg xmlns=\"http://www.w3.org/2000/svg\" height=\"24px\"viewBox=\"0 0 24 24\"\n",
              "       width=\"24px\">\n",
              "    <path d=\"M0 0h24v24H0V0z\" fill=\"none\"/>\n",
              "    <path d=\"M18.56 5.44l.94 2.06.94-2.06 2.06-.94-2.06-.94-.94-2.06-.94 2.06-2.06.94zm-11 1L8.5 8.5l.94-2.06 2.06-.94-2.06-.94L8.5 2.5l-.94 2.06-2.06.94zm10 10l.94 2.06.94-2.06 2.06-.94-2.06-.94-.94-2.06-.94 2.06-2.06.94z\"/><path d=\"M17.41 7.96l-1.37-1.37c-.4-.4-.92-.59-1.43-.59-.52 0-1.04.2-1.43.59L10.3 9.45l-7.72 7.72c-.78.78-.78 2.05 0 2.83L4 21.41c.39.39.9.59 1.41.59.51 0 1.02-.2 1.41-.59l7.78-7.78 2.81-2.81c.8-.78.8-2.07 0-2.86zM5.41 20L4 18.59l7.72-7.72 1.47 1.35L5.41 20z\"/>\n",
              "  </svg>\n",
              "      </button>\n",
              "      \n",
              "  <style>\n",
              "    .colab-df-container {\n",
              "      display:flex;\n",
              "      flex-wrap:wrap;\n",
              "      gap: 12px;\n",
              "    }\n",
              "\n",
              "    .colab-df-convert {\n",
              "      background-color: #E8F0FE;\n",
              "      border: none;\n",
              "      border-radius: 50%;\n",
              "      cursor: pointer;\n",
              "      display: none;\n",
              "      fill: #1967D2;\n",
              "      height: 32px;\n",
              "      padding: 0 0 0 0;\n",
              "      width: 32px;\n",
              "    }\n",
              "\n",
              "    .colab-df-convert:hover {\n",
              "      background-color: #E2EBFA;\n",
              "      box-shadow: 0px 1px 2px rgba(60, 64, 67, 0.3), 0px 1px 3px 1px rgba(60, 64, 67, 0.15);\n",
              "      fill: #174EA6;\n",
              "    }\n",
              "\n",
              "    [theme=dark] .colab-df-convert {\n",
              "      background-color: #3B4455;\n",
              "      fill: #D2E3FC;\n",
              "    }\n",
              "\n",
              "    [theme=dark] .colab-df-convert:hover {\n",
              "      background-color: #434B5C;\n",
              "      box-shadow: 0px 1px 3px 1px rgba(0, 0, 0, 0.15);\n",
              "      filter: drop-shadow(0px 1px 2px rgba(0, 0, 0, 0.3));\n",
              "      fill: #FFFFFF;\n",
              "    }\n",
              "  </style>\n",
              "\n",
              "      <script>\n",
              "        const buttonEl =\n",
              "          document.querySelector('#df-c7566f4b-67ee-43da-9f69-27e6f0cac10f button.colab-df-convert');\n",
              "        buttonEl.style.display =\n",
              "          google.colab.kernel.accessAllowed ? 'block' : 'none';\n",
              "\n",
              "        async function convertToInteractive(key) {\n",
              "          const element = document.querySelector('#df-c7566f4b-67ee-43da-9f69-27e6f0cac10f');\n",
              "          const dataTable =\n",
              "            await google.colab.kernel.invokeFunction('convertToInteractive',\n",
              "                                                     [key], {});\n",
              "          if (!dataTable) return;\n",
              "\n",
              "          const docLinkHtml = 'Like what you see? Visit the ' +\n",
              "            '<a target=\"_blank\" href=https://colab.research.google.com/notebooks/data_table.ipynb>data table notebook</a>'\n",
              "            + ' to learn more about interactive tables.';\n",
              "          element.innerHTML = '';\n",
              "          dataTable['output_type'] = 'display_data';\n",
              "          await google.colab.output.renderOutput(dataTable, element);\n",
              "          const docLink = document.createElement('div');\n",
              "          docLink.innerHTML = docLinkHtml;\n",
              "          element.appendChild(docLink);\n",
              "        }\n",
              "      </script>\n",
              "    </div>\n",
              "  </div>\n",
              "  "
            ]
          },
          "metadata": {},
          "execution_count": 15
        }
      ],
      "source": [
        "penguins = penguins.dropna().reset_index(drop=True)\n",
        "penguins"
      ]
    },
    {
      "cell_type": "code",
      "source": [
        "target_map = {'Male': 0, 'Female': 1}"
      ],
      "metadata": {
        "id": "0eXqsTbNP3EY"
      },
      "id": "0eXqsTbNP3EY",
      "execution_count": 16,
      "outputs": []
    },
    {
      "cell_type": "code",
      "source": [
        "penguins_replaced = penguins.replace({'sex': target_map})"
      ],
      "metadata": {
        "id": "Qq0C_7ijPtdb"
      },
      "id": "Qq0C_7ijPtdb",
      "execution_count": 17,
      "outputs": []
    },
    {
      "cell_type": "code",
      "source": [
        "penguins.iloc[:,2:6].values"
      ],
      "metadata": {
        "colab": {
          "base_uri": "https://localhost:8080/"
        },
        "id": "BK9ttFGAPL2A",
        "outputId": "d438a737-cee6-4e95-c088-248cef7dd433"
      },
      "id": "BK9ttFGAPL2A",
      "execution_count": 14,
      "outputs": [
        {
          "output_type": "execute_result",
          "data": {
            "text/plain": [
              "array([[  39.1,   18.7,  181. , 3750. ],\n",
              "       [  39.5,   17.4,  186. , 3800. ],\n",
              "       [  40.3,   18. ,  195. , 3250. ],\n",
              "       ...,\n",
              "       [  50.4,   15.7,  222. , 5750. ],\n",
              "       [  45.2,   14.8,  212. , 5200. ],\n",
              "       [  49.9,   16.1,  213. , 5400. ]])"
            ]
          },
          "metadata": {},
          "execution_count": 14
        }
      ]
    },
    {
      "cell_type": "code",
      "source": [
        "# We will use every attribute for clustering\n",
        "X = penguins_replaced.iloc[:, 2:6].values\n",
        "y = penguins_replaced.sex.values"
      ],
      "metadata": {
        "id": "JZLPr54RI7W9"
      },
      "id": "JZLPr54RI7W9",
      "execution_count": 18,
      "outputs": []
    },
    {
      "cell_type": "code",
      "source": [
        "y"
      ],
      "metadata": {
        "colab": {
          "base_uri": "https://localhost:8080/"
        },
        "id": "fKFZL0o2O3bu",
        "outputId": "ffe2a5e9-905f-4492-d17f-7536eb11c397"
      },
      "id": "fKFZL0o2O3bu",
      "execution_count": 19,
      "outputs": [
        {
          "output_type": "execute_result",
          "data": {
            "text/plain": [
              "array([0, 1, 1, 1, 0, 1, 0, 1, 0, 0, 1, 1, 0, 1, 0, 1, 0, 1, 0, 0, 1, 0,\n",
              "       1, 1, 0, 1, 0, 1, 0, 1, 0, 0, 1, 1, 0, 1, 0, 1, 0, 1, 0, 0, 1, 0,\n",
              "       1, 0, 1, 0, 1, 0, 1, 0, 1, 0, 1, 0, 1, 0, 1, 0, 1, 0, 1, 0, 1, 0,\n",
              "       1, 0, 1, 0, 1, 0, 1, 0, 1, 0, 1, 0, 1, 0, 0, 1, 0, 1, 1, 0, 1, 0,\n",
              "       1, 0, 1, 0, 1, 0, 1, 0, 1, 0, 1, 0, 1, 0, 1, 0, 1, 0, 1, 0, 1, 0,\n",
              "       1, 0, 1, 0, 1, 0, 1, 0, 1, 0, 1, 0, 1, 0, 1, 0, 1, 0, 1, 0, 1, 0,\n",
              "       1, 0, 1, 0, 1, 0, 1, 0, 0, 1, 1, 0, 1, 0, 1, 0, 0, 1, 0, 1, 1, 0,\n",
              "       1, 0, 1, 0, 1, 0, 1, 0, 0, 1, 1, 0, 1, 0, 1, 0, 1, 0, 1, 0, 1, 0,\n",
              "       1, 0, 1, 0, 0, 1, 1, 0, 1, 0, 0, 1, 0, 1, 1, 0, 1, 0, 0, 1, 1, 0,\n",
              "       1, 0, 1, 0, 1, 0, 0, 1, 0, 1, 1, 0, 1, 0, 0, 1, 1, 0, 1, 0, 0, 1,\n",
              "       1, 0, 1, 0, 1, 0, 1, 0, 1, 0, 1, 0, 1, 0, 0, 1, 1, 0, 1, 0, 0, 1,\n",
              "       0, 0, 1, 1, 0, 1, 0, 1, 0, 1, 0, 1, 0, 1, 0, 0, 1, 1, 0, 1, 0, 1,\n",
              "       0, 1, 0, 1, 0, 1, 0, 1, 0, 1, 0, 1, 0, 1, 0, 0, 1, 0, 1, 0, 0, 1,\n",
              "       1, 0, 1, 0, 1, 0, 1, 0, 1, 0, 1, 0, 1, 0, 1, 0, 1, 0, 1, 0, 1, 0,\n",
              "       0, 1, 1, 0, 1, 0, 1, 0, 0, 1, 0, 1, 0, 1, 0, 1, 0, 1, 0, 0, 1, 1,\n",
              "       0, 1, 0])"
            ]
          },
          "metadata": {},
          "execution_count": 19
        }
      ]
    },
    {
      "cell_type": "code",
      "source": [
        "from sklearn.cluster import KMeans"
      ],
      "metadata": {
        "id": "K5wpY6KyIzgp"
      },
      "id": "K5wpY6KyIzgp",
      "execution_count": 21,
      "outputs": []
    },
    {
      "cell_type": "code",
      "source": [
        "k = 2"
      ],
      "metadata": {
        "id": "0wNpFhJgIzeG"
      },
      "id": "0wNpFhJgIzeG",
      "execution_count": 22,
      "outputs": []
    },
    {
      "cell_type": "code",
      "source": [
        "model = KMeans(n_clusters = k, random_state = 221)"
      ],
      "metadata": {
        "id": "IvRBgv8SIzbn"
      },
      "id": "IvRBgv8SIzbn",
      "execution_count": 23,
      "outputs": []
    },
    {
      "cell_type": "code",
      "source": [
        "y_pred = model.fit_predict(X)"
      ],
      "metadata": {
        "id": "-QxOtfKzIzVi"
      },
      "id": "-QxOtfKzIzVi",
      "execution_count": 24,
      "outputs": []
    },
    {
      "cell_type": "code",
      "source": [
        "y_pred"
      ],
      "metadata": {
        "colab": {
          "base_uri": "https://localhost:8080/"
        },
        "id": "q700XeqTIzTJ",
        "outputId": "e54e0592-353e-4b1f-807e-760822296dda"
      },
      "id": "q700XeqTIzTJ",
      "execution_count": 25,
      "outputs": [
        {
          "output_type": "execute_result",
          "data": {
            "text/plain": [
              "array([1, 1, 1, 1, 1, 1, 0, 1, 1, 0, 1, 1, 0, 1, 1, 1, 1, 1, 1, 1, 1, 1,\n",
              "       1, 1, 1, 1, 1, 1, 1, 1, 1, 1, 1, 1, 0, 1, 1, 1, 0, 1, 0, 1, 1, 1,\n",
              "       1, 1, 1, 1, 1, 1, 1, 1, 1, 1, 1, 0, 1, 1, 1, 1, 1, 1, 1, 0, 1, 1,\n",
              "       1, 1, 1, 1, 1, 1, 1, 1, 1, 0, 1, 1, 1, 1, 1, 1, 1, 1, 1, 1, 1, 0,\n",
              "       1, 1, 1, 1, 1, 1, 1, 0, 1, 1, 1, 1, 1, 1, 1, 0, 1, 0, 1, 1, 1, 1,\n",
              "       1, 1, 1, 1, 1, 1, 1, 1, 1, 1, 1, 1, 1, 1, 1, 1, 1, 0, 1, 1, 1, 1,\n",
              "       1, 1, 1, 1, 1, 1, 1, 1, 1, 1, 1, 1, 1, 1, 1, 1, 1, 1, 1, 1, 1, 1,\n",
              "       1, 1, 1, 1, 1, 1, 1, 1, 1, 1, 1, 0, 1, 1, 1, 1, 1, 1, 1, 1, 1, 0,\n",
              "       1, 1, 1, 1, 1, 1, 1, 0, 1, 0, 1, 1, 1, 1, 1, 0, 1, 1, 1, 1, 1, 1,\n",
              "       1, 1, 1, 1, 1, 1, 1, 1, 1, 1, 1, 1, 1, 1, 1, 1, 0, 0, 0, 0, 0, 0,\n",
              "       0, 0, 0, 0, 0, 0, 0, 0, 1, 0, 1, 0, 0, 0, 0, 0, 0, 0, 0, 0, 0, 0,\n",
              "       0, 0, 0, 0, 0, 0, 0, 0, 0, 1, 0, 1, 0, 1, 0, 0, 0, 1, 0, 0, 0, 0,\n",
              "       0, 0, 0, 0, 0, 1, 0, 0, 0, 1, 0, 0, 0, 0, 0, 0, 0, 0, 0, 0, 0, 0,\n",
              "       0, 0, 0, 0, 0, 0, 0, 0, 0, 0, 0, 0, 0, 0, 0, 0, 0, 0, 0, 0, 0, 0,\n",
              "       0, 0, 0, 0, 0, 0, 0, 0, 0, 0, 0, 0, 0, 0, 0, 0, 0, 0, 0, 0, 0, 0,\n",
              "       0, 0, 0], dtype=int32)"
            ]
          },
          "metadata": {},
          "execution_count": 25
        }
      ]
    },
    {
      "cell_type": "code",
      "source": [
        "model.inertia_"
      ],
      "metadata": {
        "colab": {
          "base_uri": "https://localhost:8080/"
        },
        "id": "iC-F3uggIzQ7",
        "outputId": "f982429c-0bb6-42bd-b3f2-e3770c48b394"
      },
      "id": "iC-F3uggIzQ7",
      "execution_count": 26,
      "outputs": [
        {
          "output_type": "execute_result",
          "data": {
            "text/plain": [
              "57197916.02503826"
            ]
          },
          "metadata": {},
          "execution_count": 26
        }
      ]
    },
    {
      "cell_type": "code",
      "source": [
        "from scipy import stats\n",
        "\n",
        "def find_cluster_maps(y_pred, y):\n",
        "    mapping = {}\n",
        "    for class_id in np.unique(y):\n",
        "        mode, _ = stats.mode(y_pred[y==class_id])\n",
        "        mapping[mode[0]] = class_id\n",
        "    return mapping\n",
        "\n",
        "find_cluster_maps(y_pred, y)"
      ],
      "metadata": {
        "colab": {
          "base_uri": "https://localhost:8080/"
        },
        "id": "wH96p66vJeIx",
        "outputId": "a13f1104-eb02-4dc2-de0e-597fc95cfd2e"
      },
      "id": "wH96p66vJeIx",
      "execution_count": 27,
      "outputs": [
        {
          "output_type": "execute_result",
          "data": {
            "text/plain": [
              "{1: 1}"
            ]
          },
          "metadata": {},
          "execution_count": 27
        }
      ]
    },
    {
      "cell_type": "code",
      "source": [
        "mapping = find_cluster_maps(y_pred, y)"
      ],
      "metadata": {
        "id": "VwUCXjvbJa6G"
      },
      "id": "VwUCXjvbJa6G",
      "execution_count": 28,
      "outputs": []
    },
    {
      "cell_type": "code",
      "source": [
        "# Accuracy\n",
        "print((\"{:.4f}\".format(100 * np.sum(y_pred == y) / len(y))) + \"%\")"
      ],
      "metadata": {
        "id": "Us8EThNgJa1o",
        "colab": {
          "base_uri": "https://localhost:8080/"
        },
        "outputId": "3893c628-b7b8-496d-c015-bca32b093511"
      },
      "id": "Us8EThNgJa1o",
      "execution_count": 31,
      "outputs": [
        {
          "output_type": "stream",
          "name": "stdout",
          "text": [
            "58.5586%\n"
          ]
        }
      ]
    },
    {
      "cell_type": "markdown",
      "id": "1901f1c5",
      "metadata": {
        "id": "1901f1c5"
      },
      "source": [
        "### Task: Use Gaussian Mixture Model in penguins dataset to predict species"
      ]
    },
    {
      "cell_type": "code",
      "execution_count": 32,
      "id": "d0dda4c0",
      "metadata": {
        "id": "d0dda4c0"
      },
      "outputs": [],
      "source": [
        "from sklearn.mixture import GaussianMixture"
      ]
    },
    {
      "cell_type": "code",
      "execution_count": 33,
      "id": "e3fc6a19",
      "metadata": {
        "id": "e3fc6a19"
      },
      "outputs": [],
      "source": [
        "y_pred = GaussianMixture(n_components = k, random_state = 42).fit(X).predict(X)"
      ]
    },
    {
      "cell_type": "code",
      "source": [
        "mapping = find_cluster_maps(y_pred, y)"
      ],
      "metadata": {
        "id": "D7uivqhRJ9St"
      },
      "id": "D7uivqhRJ9St",
      "execution_count": 34,
      "outputs": []
    },
    {
      "cell_type": "code",
      "source": [
        "# Accuracy\n",
        "print((\"{:.4f}\".format(100 * np.sum(y_pred == y) / len(y))) + \"%\")"
      ],
      "metadata": {
        "id": "fRvlEYmHJ9N-",
        "colab": {
          "base_uri": "https://localhost:8080/"
        },
        "outputId": "13cf6023-8e00-46c4-eea1-bf56f01989a0"
      },
      "id": "fRvlEYmHJ9N-",
      "execution_count": 36,
      "outputs": [
        {
          "output_type": "stream",
          "name": "stdout",
          "text": [
            "49.5495%\n"
          ]
        }
      ]
    }
  ],
  "metadata": {
    "kernelspec": {
      "display_name": "Python 3 (ipykernel)",
      "language": "python",
      "name": "python3"
    },
    "language_info": {
      "codemirror_mode": {
        "name": "ipython",
        "version": 3
      },
      "file_extension": ".py",
      "mimetype": "text/x-python",
      "name": "python",
      "nbconvert_exporter": "python",
      "pygments_lexer": "ipython3",
      "version": "3.7.11"
    },
    "colab": {
      "name": "7_3.exercise_with_kaggle_dataset.ipynb의 사본",
      "provenance": [],
      "collapsed_sections": []
    }
  },
  "nbformat": 4,
  "nbformat_minor": 5
}