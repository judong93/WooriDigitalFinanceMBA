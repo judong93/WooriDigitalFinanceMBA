{
  "cells": [
    {
      "cell_type": "markdown",
      "metadata": {
        "id": "kk0kF9zGfhjn"
      },
      "source": [
        "# Logistic Regression"
      ]
    },
    {
      "cell_type": "markdown",
      "source": [
        "출처: https://github.com/Harry24k/Pytorch-Basic"
      ],
      "metadata": {
        "id": "tUH9NdTSgFNH"
      }
    },
    {
      "cell_type": "code",
      "execution_count": 1,
      "metadata": {
        "id": "AgGSXu0Efhjv"
      },
      "outputs": [],
      "source": [
        "import torch\n",
        "import torch.nn as nn\n",
        "import torch.optim as optim\n",
        "\n",
        "import numpy as np\n",
        "from sklearn import datasets"
      ]
    },
    {
      "cell_type": "code",
      "execution_count": 2,
      "metadata": {
        "id": "E1D2bincfhj1"
      },
      "outputs": [],
      "source": [
        "import matplotlib.pyplot as plt\n",
        "%matplotlib inline"
      ]
    },
    {
      "cell_type": "markdown",
      "metadata": {
        "id": "pQ4shkfKfhj4"
      },
      "source": [
        "### 1. Prepare Data"
      ]
    },
    {
      "cell_type": "markdown",
      "metadata": {
        "id": "PFk886cefhj8"
      },
      "source": [
        "\n",
        "Data Set Information:\n",
        "\n",
        "This is perhaps the best known database to be found in the pattern recognition literature. Fisher's paper is a classic in the field and is referenced frequently to this day. (See Duda & Hart, for example.) The data set contains 3 classes of 50 instances each, where each class refers to a type of iris plant. One class is linearly separable from the other 2; the latter are NOT linearly separable from each other. \n",
        "\n",
        "Predicted attribute: class of iris plant. \n",
        "\n",
        "This is an exceedingly simple domain. \n",
        "\n",
        "This data differs from the data presented in Fishers article (identified by Steve Chadwick, spchadwick '@' espeedaz.net ). The 35th sample should be: 4.9,3.1,1.5,0.2,\"Iris-setosa\" where the error is in the fourth feature. The 38th sample: 4.9,3.6,1.4,0.1,\"Iris-setosa\" where the errors are in the second and third features.\n",
        "\n",
        "\n",
        "Attribute Information:\n",
        "\n",
        "1. sepal(꽃받침) length in cm \n",
        "2. sepal(꽃받침) width in cm \n",
        "3. petal(꽃잎) length in cm \n",
        "4. petal(꽃잎) width in cm \n",
        "5. class: \n",
        "-- Iris Setosa (부채붓꽃)\n",
        "-- Iris Versicolour (...) \n",
        "-- Iris Virginica (...)"
      ]
    },
    {
      "cell_type": "code",
      "execution_count": 3,
      "metadata": {
        "id": "yE4Ru44PfhkC"
      },
      "outputs": [],
      "source": [
        "iris = datasets.load_iris()\n",
        "\n",
        "#sepal length in cm, sepal width in cm\n",
        "X = iris.data[:, :2]\n",
        "\n",
        "#-- Iris Setosa v.s. -- Iris Versicolour-- Iris Virginica\n",
        "\n",
        "def f(x) :\n",
        "    if x < 1 :\n",
        "        return 0\n",
        "    else :\n",
        "        return 1\n",
        "    \n",
        "Y = np.array(list(map(f, iris.target)))"
      ]
    },
    {
      "cell_type": "code",
      "execution_count": 4,
      "metadata": {
        "id": "vq-lDOdnfhkF",
        "outputId": "dd8a7cf6-df2d-4c96-883c-6a365f8209e3",
        "colab": {
          "base_uri": "https://localhost:8080/",
          "height": 269
        }
      },
      "outputs": [
        {
          "output_type": "display_data",
          "data": {
            "text/plain": [
              "<Figure size 432x288 with 2 Axes>"
            ],
            "image/png": "[encoded data removed]"
          },
          "metadata": {
            "needs_background": "light"
          }
        }
      ],
      "source": [
        "plt.scatter(X[:, 0], X[:, 1], c = Y)\n",
        "plt.colorbar()\n",
        "plt.show()"
      ]
    },
    {
      "cell_type": "markdown",
      "metadata": {
        "id": "M1GC7BHhfhkP"
      },
      "source": [
        "## 2. Define Model"
      ]
    },
    {
      "cell_type": "code",
      "execution_count": 5,
      "metadata": {
        "scrolled": true,
        "id": "Eq5a5eohfhkR",
        "outputId": "415cdbaf-989d-43b7-b989-cdb3b1d5e0bd",
        "colab": {
          "base_uri": "https://localhost:8080/"
        }
      },
      "outputs": [
        {
          "output_type": "execute_result",
          "data": {
            "text/plain": [
              "(tensor([[5.1000, 3.5000],\n",
              "         [4.9000, 3.0000],\n",
              "         [4.7000, 3.2000],\n",
              "         [4.6000, 3.1000],\n",
              "         [5.0000, 3.6000],\n",
              "         [5.4000, 3.9000],\n",
              "         [4.6000, 3.4000],\n",
              "         [5.0000, 3.4000],\n",
              "         [4.4000, 2.9000],\n",
              "         [4.9000, 3.1000],\n",
              "         [5.4000, 3.7000],\n",
              "         [4.8000, 3.4000],\n",
              "         [4.8000, 3.0000],\n",
              "         [4.3000, 3.0000],\n",
              "         [5.8000, 4.0000],\n",
              "         [5.7000, 4.4000],\n",
              "         [5.4000, 3.9000],\n",
              "         [5.1000, 3.5000],\n",
              "         [5.7000, 3.8000],\n",
              "         [5.1000, 3.8000],\n",
              "         [5.4000, 3.4000],\n",
              "         [5.1000, 3.7000],\n",
              "         [4.6000, 3.6000],\n",
              "         [5.1000, 3.3000],\n",
              "         [4.8000, 3.4000],\n",
              "         [5.0000, 3.0000],\n",
              "         [5.0000, 3.4000],\n",
              "         [5.2000, 3.5000],\n",
              "         [5.2000, 3.4000],\n",
              "         [4.7000, 3.2000],\n",
              "         [4.8000, 3.1000],\n",
              "         [5.4000, 3.4000],\n",
              "         [5.2000, 4.1000],\n",
              "         [5.5000, 4.2000],\n",
              "         [4.9000, 3.1000],\n",
              "         [5.0000, 3.2000],\n",
              "         [5.5000, 3.5000],\n",
              "         [4.9000, 3.6000],\n",
              "         [4.4000, 3.0000],\n",
              "         [5.1000, 3.4000],\n",
              "         [5.0000, 3.5000],\n",
              "         [4.5000, 2.3000],\n",
              "         [4.4000, 3.2000],\n",
              "         [5.0000, 3.5000],\n",
              "         [5.1000, 3.8000],\n",
              "         [4.8000, 3.0000],\n",
              "         [5.1000, 3.8000],\n",
              "         [4.6000, 3.2000],\n",
              "         [5.3000, 3.7000],\n",
              "         [5.0000, 3.3000],\n",
              "         [7.0000, 3.2000],\n",
              "         [6.4000, 3.2000],\n",
              "         [6.9000, 3.1000],\n",
              "         [5.5000, 2.3000],\n",
              "         [6.5000, 2.8000],\n",
              "         [5.7000, 2.8000],\n",
              "         [6.3000, 3.3000],\n",
              "         [4.9000, 2.4000],\n",
              "         [6.6000, 2.9000],\n",
              "         [5.2000, 2.7000],\n",
              "         [5.0000, 2.0000],\n",
              "         [5.9000, 3.0000],\n",
              "         [6.0000, 2.2000],\n",
              "         [6.1000, 2.9000],\n",
              "         [5.6000, 2.9000],\n",
              "         [6.7000, 3.1000],\n",
              "         [5.6000, 3.0000],\n",
              "         [5.8000, 2.7000],\n",
              "         [6.2000, 2.2000],\n",
              "         [5.6000, 2.5000],\n",
              "         [5.9000, 3.2000],\n",
              "         [6.1000, 2.8000],\n",
              "         [6.3000, 2.5000],\n",
              "         [6.1000, 2.8000],\n",
              "         [6.4000, 2.9000],\n",
              "         [6.6000, 3.0000],\n",
              "         [6.8000, 2.8000],\n",
              "         [6.7000, 3.0000],\n",
              "         [6.0000, 2.9000],\n",
              "         [5.7000, 2.6000],\n",
              "         [5.5000, 2.4000],\n",
              "         [5.5000, 2.4000],\n",
              "         [5.8000, 2.7000],\n",
              "         [6.0000, 2.7000],\n",
              "         [5.4000, 3.0000],\n",
              "         [6.0000, 3.4000],\n",
              "         [6.7000, 3.1000],\n",
              "         [6.3000, 2.3000],\n",
              "         [5.6000, 3.0000],\n",
              "         [5.5000, 2.5000],\n",
              "         [5.5000, 2.6000],\n",
              "         [6.1000, 3.0000],\n",
              "         [5.8000, 2.6000],\n",
              "         [5.0000, 2.3000],\n",
              "         [5.6000, 2.7000],\n",
              "         [5.7000, 3.0000],\n",
              "         [5.7000, 2.9000],\n",
              "         [6.2000, 2.9000],\n",
              "         [5.1000, 2.5000],\n",
              "         [5.7000, 2.8000],\n",
              "         [6.3000, 3.3000],\n",
              "         [5.8000, 2.7000],\n",
              "         [7.1000, 3.0000],\n",
              "         [6.3000, 2.9000],\n",
              "         [6.5000, 3.0000],\n",
              "         [7.6000, 3.0000],\n",
              "         [4.9000, 2.5000],\n",
              "         [7.3000, 2.9000],\n",
              "         [6.7000, 2.5000],\n",
              "         [7.2000, 3.6000],\n",
              "         [6.5000, 3.2000],\n",
              "         [6.4000, 2.7000],\n",
              "         [6.8000, 3.0000],\n",
              "         [5.7000, 2.5000],\n",
              "         [5.8000, 2.8000],\n",
              "         [6.4000, 3.2000],\n",
              "         [6.5000, 3.0000],\n",
              "         [7.7000, 3.8000],\n",
              "         [7.7000, 2.6000],\n",
              "         [6.0000, 2.2000],\n",
              "         [6.9000, 3.2000],\n",
              "         [5.6000, 2.8000],\n",
              "         [7.7000, 2.8000],\n",
              "         [6.3000, 2.7000],\n",
              "         [6.7000, 3.3000],\n",
              "         [7.2000, 3.2000],\n",
              "         [6.2000, 2.8000],\n",
              "         [6.1000, 3.0000],\n",
              "         [6.4000, 2.8000],\n",
              "         [7.2000, 3.0000],\n",
              "         [7.4000, 2.8000],\n",
              "         [7.9000, 3.8000],\n",
              "         [6.4000, 2.8000],\n",
              "         [6.3000, 2.8000],\n",
              "         [6.1000, 2.6000],\n",
              "         [7.7000, 3.0000],\n",
              "         [6.3000, 3.4000],\n",
              "         [6.4000, 3.1000],\n",
              "         [6.0000, 3.0000],\n",
              "         [6.9000, 3.1000],\n",
              "         [6.7000, 3.1000],\n",
              "         [6.9000, 3.1000],\n",
              "         [5.8000, 2.7000],\n",
              "         [6.8000, 3.2000],\n",
              "         [6.7000, 3.3000],\n",
              "         [6.7000, 3.0000],\n",
              "         [6.3000, 2.5000],\n",
              "         [6.5000, 3.0000],\n",
              "         [6.2000, 3.4000],\n",
              "         [5.9000, 3.0000]]),\n",
              " tensor([0., 0., 0., 0., 0., 0., 0., 0., 0., 0., 0., 0., 0., 0., 0., 0., 0., 0.,\n",
              "         0., 0., 0., 0., 0., 0., 0., 0., 0., 0., 0., 0., 0., 0., 0., 0., 0., 0.,\n",
              "         0., 0., 0., 0., 0., 0., 0., 0., 0., 0., 0., 0., 0., 0., 1., 1., 1., 1.,\n",
              "         1., 1., 1., 1., 1., 1., 1., 1., 1., 1., 1., 1., 1., 1., 1., 1., 1., 1.,\n",
              "         1., 1., 1., 1., 1., 1., 1., 1., 1., 1., 1., 1., 1., 1., 1., 1., 1., 1.,\n",
              "         1., 1., 1., 1., 1., 1., 1., 1., 1., 1., 1., 1., 1., 1., 1., 1., 1., 1.,\n",
              "         1., 1., 1., 1., 1., 1., 1., 1., 1., 1., 1., 1., 1., 1., 1., 1., 1., 1.,\n",
              "         1., 1., 1., 1., 1., 1., 1., 1., 1., 1., 1., 1., 1., 1., 1., 1., 1., 1.,\n",
              "         1., 1., 1., 1., 1., 1.]))"
            ]
          },
          "metadata": {},
          "execution_count": 5
        }
      ],
      "source": [
        "x, y = torch.from_numpy(X).float(), torch.from_numpy(Y).float()\n",
        "x, y"
      ]
    },
    {
      "cell_type": "code",
      "execution_count": 6,
      "metadata": {
        "id": "eJ5ZKIIdfhkV"
      },
      "outputs": [],
      "source": [
        "linear = nn.Linear(2, 1, bias = True)\n",
        "sigmoid = nn.Sigmoid()\n",
        "\n",
        "model = nn.Sequential(linear, sigmoid)"
      ]
    },
    {
      "cell_type": "code",
      "execution_count": 7,
      "metadata": {
        "id": "tWHnK1eSfhkX"
      },
      "outputs": [],
      "source": [
        "#Binary Cross Entropy Loss : class가 2개일 때\n",
        "loss = nn.BCELoss()\n",
        "optimizer = optim.SGD(model.parameters(), lr=0.01)"
      ]
    },
    {
      "cell_type": "markdown",
      "metadata": {
        "id": "h0wfLXaTfhkZ"
      },
      "source": [
        "## 3. Train Model"
      ]
    },
    {
      "cell_type": "code",
      "execution_count": 8,
      "metadata": {
        "id": "_EvcJufjfhkc",
        "outputId": "cfe93741-2f12-4d28-b68d-082fa6be01a7",
        "colab": {
          "base_uri": "https://localhost:8080/"
        }
      },
      "outputs": [
        {
          "output_type": "stream",
          "name": "stdout",
          "text": [
            "Step :  0 , Cost :  0.6530071496963501\n",
            "Step :  200 , Cost :  0.5092496275901794\n",
            "Step :  400 , Cost :  0.4392428696155548\n",
            "Step :  600 , Cost :  0.38573843240737915\n",
            "Step :  800 , Cost :  0.3440951406955719\n",
            "Step :  1000 , Cost :  0.3110358715057373\n",
            "Step :  1200 , Cost :  0.2842860519886017\n",
            "Step :  1400 , Cost :  0.2622605264186859\n",
            "Step :  1600 , Cost :  0.24384041130542755\n",
            "Step :  1800 , Cost :  0.22822225093841553\n"
          ]
        }
      ],
      "source": [
        "for step in range(2000):\n",
        "    prob = model(x)\n",
        "    cost = loss(prob, y.view(150, 1))\n",
        "    \n",
        "    optimizer.zero_grad()\n",
        "    cost.backward()\n",
        "    optimizer.step()\n",
        "    \n",
        "    if step % 200 == 0 :\n",
        "        print(\"Step : \",step, \", Cost : \", cost.item())"
      ]
    },
    {
      "cell_type": "markdown",
      "metadata": {
        "id": "Okastgjcfhkf"
      },
      "source": [
        "## 4. Test Model"
      ]
    },
    {
      "cell_type": "code",
      "execution_count": 9,
      "metadata": {
        "id": "oNTyp_zafhkg",
        "outputId": "b24f3b60-d0c5-43f6-e31f-b7dca6ff29d9",
        "colab": {
          "base_uri": "https://localhost:8080/",
          "height": 336
        }
      },
      "outputs": [
        {
          "output_type": "display_data",
          "data": {
            "text/plain": [
              "<Figure size 1152x360 with 4 Axes>"
            ],
            "image/png": "[encoded data removed]"
          },
          "metadata": {
            "needs_background": "light"
          }
        }
      ],
      "source": [
        "fig = plt.figure(figsize = (16, 5))\n",
        "\n",
        "ax1 = fig.add_subplot(1, 2, 1)\n",
        "ax2 = fig.add_subplot(1, 2, 2)\n",
        "\n",
        "z1_plot = ax1.scatter(X[:, 0], X[:, 1], c = Y)\n",
        "z2_plot = ax2.scatter(X[:, 0], X[:, 1], c = model(x).squeeze().data.numpy() > 0.5)\n",
        "\n",
        "plt.colorbar(z1_plot,ax=ax1)\n",
        "plt.colorbar(z2_plot,ax=ax2)\n",
        "\n",
        "ax1.set_title(\"REAL\")\n",
        "ax2.set_title(\"PREDICT\")\n",
        "\n",
        "plt.show()"
      ]
    }
  ],
  "metadata": {
    "kernelspec": {
      "display_name": "Python 3",
      "language": "python",
      "name": "python3"
    },
    "language_info": {
      "codemirror_mode": {
        "name": "ipython",
        "version": 3
      },
      "file_extension": ".py",
      "mimetype": "text/x-python",
      "name": "python",
      "nbconvert_exporter": "python",
      "pygments_lexer": "ipython3",
      "version": "3.6.5"
    },
    "colab": {
      "name": "07. Logistic Regression.ipynb의 사본",
      "provenance": []
    }
  },
  "nbformat": 4,
  "nbformat_minor": 0
}