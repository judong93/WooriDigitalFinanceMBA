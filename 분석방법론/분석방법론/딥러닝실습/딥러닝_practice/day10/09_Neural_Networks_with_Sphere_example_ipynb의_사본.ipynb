{
  "cells": [
    {
      "cell_type": "markdown",
      "metadata": {
        "id": "LULkFlUej7Q1"
      },
      "source": [
        "# Neural Networks with Sphere example"
      ]
    },
    {
      "cell_type": "code",
      "execution_count": 1,
      "metadata": {
        "id": "BQ8c9dK_j7RB"
      },
      "outputs": [],
      "source": [
        "import numpy as np\n",
        "\n",
        "import torch\n",
        "import torch.nn as nn\n",
        "import torch.optim as optim\n",
        "\n",
        "from torch.utils.data import TensorDataset, DataLoader"
      ]
    },
    {
      "cell_type": "code",
      "execution_count": 2,
      "metadata": {
        "id": "ZhgT6Kqxj7RE"
      },
      "outputs": [],
      "source": [
        "import matplotlib.pyplot as plt\n",
        "%matplotlib inline"
      ]
    },
    {
      "cell_type": "markdown",
      "metadata": {
        "id": "lFJxgXhGj7RG"
      },
      "source": [
        "## 1. Generate Data"
      ]
    },
    {
      "cell_type": "code",
      "execution_count": 65,
      "metadata": {
        "id": "cmUpFhSLj7RH"
      },
      "outputs": [],
      "source": [
        "def make_datasets(size, dim) :\n",
        "    x = torch.randn(size, dim)\n",
        "    y = torch.randn(size, dim)\n",
        "\n",
        "    x = x / x.norm(dim=1).view(size, 1)\n",
        "    y = 4 * y / y.norm(dim=1).view(size, 1)\n",
        "    \n",
        "    label_x = torch.ones(size)\n",
        "    label_y = torch.zeros(size)\n",
        "\n",
        "    data = torch.cat([x, y])\n",
        "    label = torch.cat([label_x, label_y])\n",
        "    \n",
        "    return TensorDataset(data, label)"
      ]
    },
    {
      "cell_type": "code",
      "execution_count": 66,
      "metadata": {
        "id": "bl1RA4MGj7RI"
      },
      "outputs": [],
      "source": [
        "train_data = make_datasets(500, 2)\n",
        "test_data = make_datasets(100, 2)\n",
        "\n",
        "batch_size = 100\n",
        "\n",
        "train_loader = DataLoader(batch_size=batch_size, dataset=train_data, shuffle=True)\n",
        "test_loader = DataLoader(batch_size=batch_size, dataset=test_data, shuffle=False)\n",
        "\n",
        "# dataset (Dataset) – dataset from which to load the data.\n",
        "# batch_size (int, optional) – how many samples per batch to load (default: 1).\n",
        "# shuffle (bool, optional) – set to True to have the data reshuffled at every epoch (default: False)."
      ]
    },
    {
      "cell_type": "code",
      "execution_count": 67,
      "metadata": {
        "id": "6LgxeJ1Ij7RK"
      },
      "outputs": [],
      "source": [
        "X = train_data.tensors[0]\n",
        "Y = train_data.tensors[1]"
      ]
    },
    {
      "cell_type": "code",
      "execution_count": 68,
      "metadata": {
        "id": "YWHHeJnWj7RM",
        "outputId": "c590d2ff-b195-4763-de1c-cf951f29a607",
        "colab": {
          "base_uri": "https://localhost:8080/",
          "height": 269
        }
      },
      "outputs": [
        {
          "output_type": "display_data",
          "data": {
            "text/plain": [
              "<Figure size 360x288 with 2 Axes>"
            ],
            "image/png": "[encoded data removed]"
          },
          "metadata": {
            "needs_background": "light"
          }
        }
      ],
      "source": [
        "fig = plt.figure(figsize = (5, 4))\n",
        "plt.scatter(X[:, 0], X[:, 1], c = Y)\n",
        "plt.colorbar()\n",
        "plt.show()"
      ]
    },
    {
      "cell_type": "markdown",
      "metadata": {
        "id": "Rxswg-FKj7RQ"
      },
      "source": [
        "## 2. Define Model"
      ]
    },
    {
      "cell_type": "code",
      "execution_count": 90,
      "metadata": {
        "id": "eA8-5J4vj7RS"
      },
      "outputs": [],
      "source": [
        "model = nn.Sequential(\n",
        "    nn.Linear(2, 2000),\n",
        "    nn.ReLU(),\n",
        "    nn.Linear(2000, 500),\n",
        "    nn.ReLU(),\n",
        "    nn.Linear(500, 1),\n",
        "    nn.Sigmoid()\n",
        ")"
      ]
    },
    {
      "cell_type": "markdown",
      "metadata": {
        "id": "kElxQbe0j7RT"
      },
      "source": [
        "## 3. Train Model"
      ]
    },
    {
      "cell_type": "code",
      "execution_count": 91,
      "metadata": {
        "id": "d_YFoO35j7RU"
      },
      "outputs": [],
      "source": [
        "loss = nn.BCELoss()\n",
        "optimizer = optim.SGD(model.parameters(), lr=0.1)"
      ]
    },
    {
      "cell_type": "code",
      "execution_count": 92,
      "metadata": {
        "id": "_nhZoBJmj7RU"
      },
      "outputs": [],
      "source": [
        "num_epochs = 5"
      ]
    },
    {
      "cell_type": "code",
      "execution_count": 93,
      "metadata": {
        "scrolled": false,
        "id": "07j7bvx1j7RV",
        "outputId": "33fb60ae-842d-4cc4-bb20-a590bfd20b9e",
        "colab": {
          "base_uri": "https://localhost:8080/"
        }
      },
      "outputs": [
        {
          "output_type": "stream",
          "name": "stdout",
          "text": [
            "lter [1/10], Loss: 0.6644\n",
            "lter [2/10], Loss: 0.6762\n",
            "lter [3/10], Loss: 0.4771\n",
            "lter [4/10], Loss: 0.4490\n",
            "lter [5/10], Loss: 0.3648\n",
            "lter [6/10], Loss: 0.3119\n",
            "lter [7/10], Loss: 0.2705\n",
            "lter [8/10], Loss: 0.2207\n",
            "lter [9/10], Loss: 0.1868\n",
            "lter [10/10], Loss: 0.1782\n",
            "Learning Finished!\n"
          ]
        }
      ],
      "source": [
        "model.train()\n",
        "    \n",
        "for i, (batch_data, batch_labels) in enumerate(train_loader):\n",
        "\n",
        "    X = batch_data\n",
        "    Y = batch_labels\n",
        "\n",
        "    pre = model(X)\n",
        "    cost = loss(pre.squeeze(), Y)\n",
        "\n",
        "    optimizer.zero_grad()\n",
        "    cost.backward()\n",
        "    optimizer.step()\n",
        "    \n",
        "    print('lter [%d/%d], Loss: %.4f'%(i+1, len(train_loader), cost.item()))\n",
        "    \n",
        "print(\"Learning Finished!\")"
      ]
    },
    {
      "cell_type": "markdown",
      "metadata": {
        "id": "St37p3eej7RX"
      },
      "source": [
        "## 4. Test Model"
      ]
    },
    {
      "cell_type": "code",
      "execution_count": 94,
      "metadata": {
        "id": "BMxdJJiAj7RX",
        "outputId": "2f67ea5e-6643-4f23-f526-2eded0c53a55",
        "colab": {
          "base_uri": "https://localhost:8080/"
        }
      },
      "outputs": [
        {
          "output_type": "stream",
          "name": "stdout",
          "text": [
            "Accuracy of test images: 100.000000 %\n",
            "Misclassified : 0 %\n"
          ]
        }
      ],
      "source": [
        "correct = 0\n",
        "total = 0\n",
        "\n",
        "for data, labels in test_loader:\n",
        "    \n",
        "    outputs = model(data)\n",
        "    \n",
        "    predicted = outputs.squeeze().data > 0.5\n",
        "    total += data.shape[0]\n",
        "    correct += (predicted == labels).sum()\n",
        "    \n",
        "print('Accuracy of test images: %f %%' % (100 * float(correct) / total))\n",
        "print('Misclassified : %d %%' % (total - correct))"
      ]
    },
    {
      "cell_type": "markdown",
      "metadata": {
        "id": "p-Cw-jTmj7RY"
      },
      "source": [
        "## 5. Decision Boundary"
      ]
    },
    {
      "cell_type": "code",
      "execution_count": 95,
      "metadata": {
        "id": "PWb7Ubvzj7RY"
      },
      "outputs": [],
      "source": [
        "grid_size = 500\n",
        "x = torch.linspace(-5, 5, grid_size)\n",
        "y = torch.linspace(-5, 5, grid_size)\n",
        "xv, yv = torch.meshgrid(x, y)"
      ]
    },
    {
      "cell_type": "code",
      "execution_count": 96,
      "metadata": {
        "id": "hvdakTs0j7RZ",
        "outputId": "a938f600-c479-488b-adb0-669c790142eb",
        "colab": {
          "base_uri": "https://localhost:8080/"
        }
      },
      "outputs": [
        {
          "output_type": "execute_result",
          "data": {
            "text/plain": [
              "(torch.Size([500, 500]), torch.Size([500, 500]))"
            ]
          },
          "metadata": {},
          "execution_count": 96
        }
      ],
      "source": [
        "xv.shape, yv.shape"
      ]
    },
    {
      "cell_type": "code",
      "execution_count": 97,
      "metadata": {
        "id": "78YvOHWrj7Ra"
      },
      "outputs": [],
      "source": [
        "xv = xv.reshape(-1, 1)\n",
        "yv = yv.reshape(-1, 1)"
      ]
    },
    {
      "cell_type": "code",
      "execution_count": 98,
      "metadata": {
        "id": "jvpgSN2-j7Ra",
        "outputId": "37507bfe-8557-495d-9173-212af06bcf27",
        "colab": {
          "base_uri": "https://localhost:8080/"
        }
      },
      "outputs": [
        {
          "output_type": "execute_result",
          "data": {
            "text/plain": [
              "tensor([[-5.0000, -5.0000],\n",
              "        [-5.0000, -4.9800],\n",
              "        [-5.0000, -4.9599],\n",
              "        ...,\n",
              "        [ 5.0000,  4.9599],\n",
              "        [ 5.0000,  4.9800],\n",
              "        [ 5.0000,  5.0000]])"
            ]
          },
          "metadata": {},
          "execution_count": 98
        }
      ],
      "source": [
        "torch.cat([xv, yv], dim=1)"
      ]
    },
    {
      "cell_type": "code",
      "execution_count": 99,
      "metadata": {
        "id": "wzCQy5DWj7Rb"
      },
      "outputs": [],
      "source": [
        "z = model(torch.cat([xv, yv], dim=1)) > 0.5"
      ]
    },
    {
      "cell_type": "code",
      "execution_count": 89,
      "metadata": {
        "id": "thB8gX6Pj7Rc",
        "outputId": "267a11ac-d5d6-4be5-ad88-ecc7b4900e0d",
        "colab": {
          "base_uri": "https://localhost:8080/",
          "height": 276
        }
      },
      "outputs": [
        {
          "output_type": "display_data",
          "data": {
            "text/plain": [
              "<Figure size 360x288 with 2 Axes>"
            ],
            "image/png": "[encoded data removed]"
          },
          "metadata": {
            "needs_background": "light"
          }
        }
      ],
      "source": [
        "x = xv.data.numpy().reshape(grid_size, grid_size)\n",
        "y = yv.data.numpy().reshape(grid_size, grid_size)\n",
        "z = z.data.numpy().reshape(grid_size, grid_size)\n",
        "\n",
        "fig = plt.figure(figsize = (5, 4))\n",
        "plt.scatter(X[:, 0], X[:, 1], c = Y)\n",
        "plt.contourf(x, y, z, alpha=0.3)\n",
        "plt.colorbar()\n",
        "plt.show()"
      ]
    },
    {
      "cell_type": "code",
      "execution_count": null,
      "metadata": {
        "id": "_8BamNpvj7Re"
      },
      "outputs": [],
      "source": [
        ""
      ]
    }
  ],
  "metadata": {
    "kernelspec": {
      "display_name": "Python 3",
      "language": "python",
      "name": "python3"
    },
    "language_info": {
      "codemirror_mode": {
        "name": "ipython",
        "version": 3
      },
      "file_extension": ".py",
      "mimetype": "text/x-python",
      "name": "python",
      "nbconvert_exporter": "python",
      "pygments_lexer": "ipython3",
      "version": "3.6.5"
    },
    "colab": {
      "name": "09. Neural Networks with Sphere example.ipynb의 사본",
      "provenance": []
    }
  },
  "nbformat": 4,
  "nbformat_minor": 0
}